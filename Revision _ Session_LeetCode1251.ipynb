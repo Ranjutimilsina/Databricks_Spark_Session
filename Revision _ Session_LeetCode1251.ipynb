{
 "cells": [
  {
   "cell_type": "code",
   "execution_count": 0,
   "metadata": {
    "application/vnd.databricks.v1+cell": {
     "cellMetadata": {
      "byteLimit": 2048000,
      "rowLimit": 10000
     },
     "inputWidgets": {},
     "nuid": "42a58e00-0000-4194-9e0e-2c6be85ee709",
     "showTitle": false,
     "tableResultSettingsMap": {},
     "title": ""
    }
   },
   "outputs": [],
   "source": [
    "#Importing modules \n",
    "from pyspark.sql import SparkSession \n",
    "from pyspark.sql.functions import *\n",
    "from pyspark.sql.types import *\n",
    "from pyspark.sql.window import Window \n",
    "\n",
    "#Creating spark session \n",
    "spark = SparkSession.builder.appName('read').getOrCreate()\n"
   ]
  },
  {
   "cell_type": "code",
   "execution_count": 0,
   "metadata": {
    "application/vnd.databricks.v1+cell": {
     "cellMetadata": {
      "byteLimit": 2048000,
      "rowLimit": 10000
     },
     "inputWidgets": {},
     "nuid": "7bc4ff03-772b-4daf-8f88-c222d42b16ad",
     "showTitle": false,
     "tableResultSettingsMap": {},
     "title": ""
    }
   },
   "outputs": [
    {
     "output_type": "display_data",
     "data": {
      "text/html": [
       "<style scoped>\n",
       "  .table-result-container {\n",
       "    max-height: 300px;\n",
       "    overflow: auto;\n",
       "  }\n",
       "  table, th, td {\n",
       "    border: 1px solid black;\n",
       "    border-collapse: collapse;\n",
       "  }\n",
       "  th, td {\n",
       "    padding: 5px;\n",
       "  }\n",
       "  th {\n",
       "    text-align: left;\n",
       "  }\n",
       "</style><div class='table-result-container'><table class='table-result'><thead style='background-color: white'><tr><th>product_id</th><th>start_date</th><th>end_date</th><th>price</th></tr></thead><tbody><tr><td>1</td><td>2019-02-17</td><td>2019-02-28</td><td>5</td></tr><tr><td>1</td><td>2019-03-01</td><td>2019-03-22</td><td>20</td></tr><tr><td>2</td><td>2019-02-01</td><td>2019-02-20</td><td>15</td></tr><tr><td>2</td><td>2019-02-21</td><td>2019-03-31</td><td>30</td></tr></tbody></table></div>"
      ]
     },
     "metadata": {
      "application/vnd.databricks.v1+output": {
       "addedWidgets": {},
       "aggData": [],
       "aggError": "",
       "aggOverflow": false,
       "aggSchema": [],
       "aggSeriesLimitReached": false,
       "aggType": "",
       "arguments": {},
       "columnCustomDisplayInfos": {},
       "data": [
        [
         1,
         "2019-02-17",
         "2019-02-28",
         5
        ],
        [
         1,
         "2019-03-01",
         "2019-03-22",
         20
        ],
        [
         2,
         "2019-02-01",
         "2019-02-20",
         15
        ],
        [
         2,
         "2019-02-21",
         "2019-03-31",
         30
        ]
       ],
       "datasetInfos": [],
       "dbfsResultPath": null,
       "isJsonSchema": true,
       "metadata": {},
       "overflow": false,
       "plotOptions": {
        "customPlotOptions": {},
        "displayType": "table",
        "pivotAggregation": null,
        "pivotColumns": null,
        "xColumns": null,
        "yColumns": null
       },
       "removedWidgets": [],
       "schema": [
        {
         "metadata": "{}",
         "name": "product_id",
         "type": "\"integer\""
        },
        {
         "metadata": "{}",
         "name": "start_date",
         "type": "\"string\""
        },
        {
         "metadata": "{}",
         "name": "end_date",
         "type": "\"string\""
        },
        {
         "metadata": "{}",
         "name": "price",
         "type": "\"integer\""
        }
       ],
       "type": "table"
      }
     },
     "output_type": "display_data"
    },
    {
     "output_type": "display_data",
     "data": {
      "text/html": [
       "<style scoped>\n",
       "  .table-result-container {\n",
       "    max-height: 300px;\n",
       "    overflow: auto;\n",
       "  }\n",
       "  table, th, td {\n",
       "    border: 1px solid black;\n",
       "    border-collapse: collapse;\n",
       "  }\n",
       "  th, td {\n",
       "    padding: 5px;\n",
       "  }\n",
       "  th {\n",
       "    text-align: left;\n",
       "  }\n",
       "</style><div class='table-result-container'><table class='table-result'><thead style='background-color: white'><tr><th>product_id</th><th>purchase_date</th><th>units</th></tr></thead><tbody><tr><td>1</td><td>2019-02-25</td><td>100</td></tr><tr><td>1</td><td>2019-03-01</td><td>15</td></tr><tr><td>2</td><td>2019-02-10</td><td>200</td></tr><tr><td>2</td><td>2019-03-22</td><td>30</td></tr></tbody></table></div>"
      ]
     },
     "metadata": {
      "application/vnd.databricks.v1+output": {
       "addedWidgets": {},
       "aggData": [],
       "aggError": "",
       "aggOverflow": false,
       "aggSchema": [],
       "aggSeriesLimitReached": false,
       "aggType": "",
       "arguments": {},
       "columnCustomDisplayInfos": {},
       "data": [
        [
         1,
         "2019-02-25",
         100
        ],
        [
         1,
         "2019-03-01",
         15
        ],
        [
         2,
         "2019-02-10",
         200
        ],
        [
         2,
         "2019-03-22",
         30
        ]
       ],
       "datasetInfos": [],
       "dbfsResultPath": null,
       "isJsonSchema": true,
       "metadata": {},
       "overflow": false,
       "plotOptions": {
        "customPlotOptions": {},
        "displayType": "table",
        "pivotAggregation": null,
        "pivotColumns": null,
        "xColumns": null,
        "yColumns": null
       },
       "removedWidgets": [],
       "schema": [
        {
         "metadata": "{}",
         "name": "product_id",
         "type": "\"integer\""
        },
        {
         "metadata": "{}",
         "name": "purchase_date",
         "type": "\"string\""
        },
        {
         "metadata": "{}",
         "name": "units",
         "type": "\"integer\""
        }
       ],
       "type": "table"
      }
     },
     "output_type": "display_data"
    }
   ],
   "source": [
    "schema_prices= ''' product_id int, start_date string, end_date string, price int '''\n",
    "\n",
    "prices = [(1, '2019-02-17',  '2019-02-28' ,5),\n",
    "          (1, '2019-03-01' , '2019-03-22', 20),\n",
    "          (2, '2019-02-01' , '2019-02-20' , 15),\n",
    "          (2, '2019-02-21' , '2019-03-31', 30 )]\n",
    "\n",
    "\n",
    "df_prices = spark.createDataFrame(prices, schema_prices)\n",
    "df_prices.display()\n",
    "\n",
    "\n",
    "schema_unitssold = ''' product_id int, purchase_date string, units int'''\n",
    "\n",
    "unitssold= [(1 , '2019-02-25' ,100),\n",
    "            (1, '2019-03-01' , 15  ),\n",
    "            (2, '2019-02-10', 200),\n",
    "            (2, '2019-03-22',30)]\n",
    "\n",
    "df_unitssold = spark.createDataFrame(unitssold, schema_unitssold)\n",
    "df_unitssold.display()\n",
    "        \n",
    "\n",
    "\n"
   ]
  },
  {
   "cell_type": "code",
   "execution_count": 0,
   "metadata": {
    "application/vnd.databricks.v1+cell": {
     "cellMetadata": {
      "byteLimit": 2048000,
      "rowLimit": 10000
     },
     "inputWidgets": {},
     "nuid": "242f8f9b-4f05-4209-b798-a17e2049f04a",
     "showTitle": false,
     "tableResultSettingsMap": {},
     "title": ""
    }
   },
   "outputs": [
    {
     "output_type": "display_data",
     "data": {
      "text/html": [
       "<style scoped>\n",
       "  .table-result-container {\n",
       "    max-height: 300px;\n",
       "    overflow: auto;\n",
       "  }\n",
       "  table, th, td {\n",
       "    border: 1px solid black;\n",
       "    border-collapse: collapse;\n",
       "  }\n",
       "  th, td {\n",
       "    padding: 5px;\n",
       "  }\n",
       "  th {\n",
       "    text-align: left;\n",
       "  }\n",
       "</style><div class='table-result-container'><table class='table-result'><thead style='background-color: white'><tr><th>product_id</th><th>purchase_date</th><th>units</th></tr></thead><tbody><tr><td>1</td><td>2019-02-25</td><td>100</td></tr><tr><td>1</td><td>2019-03-01</td><td>15</td></tr><tr><td>2</td><td>2019-02-10</td><td>200</td></tr><tr><td>2</td><td>2019-03-22</td><td>30</td></tr></tbody></table></div>"
      ]
     },
     "metadata": {
      "application/vnd.databricks.v1+output": {
       "addedWidgets": {},
       "aggData": [],
       "aggError": "",
       "aggOverflow": false,
       "aggSchema": [],
       "aggSeriesLimitReached": false,
       "aggType": "",
       "arguments": {},
       "columnCustomDisplayInfos": {},
       "data": [
        [
         1,
         "2019-02-25",
         100
        ],
        [
         1,
         "2019-03-01",
         15
        ],
        [
         2,
         "2019-02-10",
         200
        ],
        [
         2,
         "2019-03-22",
         30
        ]
       ],
       "datasetInfos": [],
       "dbfsResultPath": null,
       "isJsonSchema": true,
       "metadata": {},
       "overflow": false,
       "plotOptions": {
        "customPlotOptions": {},
        "displayType": "table",
        "pivotAggregation": null,
        "pivotColumns": null,
        "xColumns": null,
        "yColumns": null
       },
       "removedWidgets": [],
       "schema": [
        {
         "metadata": "{}",
         "name": "product_id",
         "type": "\"integer\""
        },
        {
         "metadata": "{}",
         "name": "purchase_date",
         "type": "\"date\""
        },
        {
         "metadata": "{}",
         "name": "units",
         "type": "\"integer\""
        }
       ],
       "type": "table"
      }
     },
     "output_type": "display_data"
    },
    {
     "output_type": "display_data",
     "data": {
      "text/html": [
       "<style scoped>\n",
       "  .table-result-container {\n",
       "    max-height: 300px;\n",
       "    overflow: auto;\n",
       "  }\n",
       "  table, th, td {\n",
       "    border: 1px solid black;\n",
       "    border-collapse: collapse;\n",
       "  }\n",
       "  th, td {\n",
       "    padding: 5px;\n",
       "  }\n",
       "  th {\n",
       "    text-align: left;\n",
       "  }\n",
       "</style><div class='table-result-container'><table class='table-result'><thead style='background-color: white'><tr><th>product_id</th><th>start_date</th><th>end_date</th><th>price</th></tr></thead><tbody><tr><td>1</td><td>2019-02-17</td><td>2019-02-28</td><td>5</td></tr><tr><td>1</td><td>2019-03-01</td><td>2019-03-22</td><td>20</td></tr><tr><td>2</td><td>2019-02-01</td><td>2019-02-20</td><td>15</td></tr><tr><td>2</td><td>2019-02-21</td><td>2019-03-31</td><td>30</td></tr></tbody></table></div>"
      ]
     },
     "metadata": {
      "application/vnd.databricks.v1+output": {
       "addedWidgets": {},
       "aggData": [],
       "aggError": "",
       "aggOverflow": false,
       "aggSchema": [],
       "aggSeriesLimitReached": false,
       "aggType": "",
       "arguments": {},
       "columnCustomDisplayInfos": {},
       "data": [
        [
         1,
         "2019-02-17",
         "2019-02-28",
         5
        ],
        [
         1,
         "2019-03-01",
         "2019-03-22",
         20
        ],
        [
         2,
         "2019-02-01",
         "2019-02-20",
         15
        ],
        [
         2,
         "2019-02-21",
         "2019-03-31",
         30
        ]
       ],
       "datasetInfos": [],
       "dbfsResultPath": null,
       "isJsonSchema": true,
       "metadata": {},
       "overflow": false,
       "plotOptions": {
        "customPlotOptions": {},
        "displayType": "table",
        "pivotAggregation": null,
        "pivotColumns": null,
        "xColumns": null,
        "yColumns": null
       },
       "removedWidgets": [],
       "schema": [
        {
         "metadata": "{}",
         "name": "product_id",
         "type": "\"integer\""
        },
        {
         "metadata": "{}",
         "name": "start_date",
         "type": "\"date\""
        },
        {
         "metadata": "{}",
         "name": "end_date",
         "type": "\"string\""
        },
        {
         "metadata": "{}",
         "name": "price",
         "type": "\"integer\""
        }
       ],
       "type": "table"
      }
     },
     "output_type": "display_data"
    },
    {
     "output_type": "display_data",
     "data": {
      "text/html": [
       "<style scoped>\n",
       "  .table-result-container {\n",
       "    max-height: 300px;\n",
       "    overflow: auto;\n",
       "  }\n",
       "  table, th, td {\n",
       "    border: 1px solid black;\n",
       "    border-collapse: collapse;\n",
       "  }\n",
       "  th, td {\n",
       "    padding: 5px;\n",
       "  }\n",
       "  th {\n",
       "    text-align: left;\n",
       "  }\n",
       "</style><div class='table-result-container'><table class='table-result'><thead style='background-color: white'><tr><th>product_id</th><th>start_date</th><th>end_date</th><th>price</th></tr></thead><tbody><tr><td>1</td><td>2019-02-17</td><td>2019-02-28</td><td>5</td></tr><tr><td>1</td><td>2019-03-01</td><td>2019-03-22</td><td>20</td></tr><tr><td>2</td><td>2019-02-01</td><td>2019-02-20</td><td>15</td></tr><tr><td>2</td><td>2019-02-21</td><td>2019-03-31</td><td>30</td></tr></tbody></table></div>"
      ]
     },
     "metadata": {
      "application/vnd.databricks.v1+output": {
       "addedWidgets": {},
       "aggData": [],
       "aggError": "",
       "aggOverflow": false,
       "aggSchema": [],
       "aggSeriesLimitReached": false,
       "aggType": "",
       "arguments": {},
       "columnCustomDisplayInfos": {},
       "data": [
        [
         1,
         "2019-02-17",
         "2019-02-28",
         5
        ],
        [
         1,
         "2019-03-01",
         "2019-03-22",
         20
        ],
        [
         2,
         "2019-02-01",
         "2019-02-20",
         15
        ],
        [
         2,
         "2019-02-21",
         "2019-03-31",
         30
        ]
       ],
       "datasetInfos": [],
       "dbfsResultPath": null,
       "isJsonSchema": true,
       "metadata": {},
       "overflow": false,
       "plotOptions": {
        "customPlotOptions": {},
        "displayType": "table",
        "pivotAggregation": null,
        "pivotColumns": null,
        "xColumns": null,
        "yColumns": null
       },
       "removedWidgets": [],
       "schema": [
        {
         "metadata": "{}",
         "name": "product_id",
         "type": "\"integer\""
        },
        {
         "metadata": "{}",
         "name": "start_date",
         "type": "\"string\""
        },
        {
         "metadata": "{}",
         "name": "end_date",
         "type": "\"date\""
        },
        {
         "metadata": "{}",
         "name": "price",
         "type": "\"integer\""
        }
       ],
       "type": "table"
      }
     },
     "output_type": "display_data"
    }
   ],
   "source": [
    "\n",
    "df_unitssold.withColumn(\"purchase_date\", col(\"purchase_date\").cast(\"date\")).display()\n",
    "df_prices.withColumn(\"start_date\", col(\"start_date\").cast(\"date\")).display()\n",
    "df_prices.withColumn(\"end_date\", col(\"end_date\").cast(\"date\")).display()"
   ]
  },
  {
   "cell_type": "code",
   "execution_count": 0,
   "metadata": {
    "application/vnd.databricks.v1+cell": {
     "cellMetadata": {
      "byteLimit": 2048000,
      "rowLimit": 10000
     },
     "inputWidgets": {},
     "nuid": "df55a3b4-a300-4b07-a486-cd2521330443",
     "showTitle": false,
     "tableResultSettingsMap": {},
     "title": ""
    }
   },
   "outputs": [
    {
     "output_type": "display_data",
     "data": {
      "text/html": [
       "<style scoped>\n",
       "  .table-result-container {\n",
       "    max-height: 300px;\n",
       "    overflow: auto;\n",
       "  }\n",
       "  table, th, td {\n",
       "    border: 1px solid black;\n",
       "    border-collapse: collapse;\n",
       "  }\n",
       "  th, td {\n",
       "    padding: 5px;\n",
       "  }\n",
       "  th {\n",
       "    text-align: left;\n",
       "  }\n",
       "</style><div class='table-result-container'><table class='table-result'><thead style='background-color: white'><tr><th>Id</th><th>start_date</th><th>end_date</th><th>price</th><th>purchase_date</th><th>units</th></tr></thead><tbody><tr><td>1</td><td>2019-02-17</td><td>2019-02-28</td><td>5</td><td>2019-02-25</td><td>100</td></tr><tr><td>1</td><td>2019-02-17</td><td>2019-02-28</td><td>5</td><td>2019-03-01</td><td>15</td></tr><tr><td>1</td><td>2019-03-01</td><td>2019-03-22</td><td>20</td><td>2019-02-25</td><td>100</td></tr><tr><td>1</td><td>2019-03-01</td><td>2019-03-22</td><td>20</td><td>2019-03-01</td><td>15</td></tr><tr><td>2</td><td>2019-02-01</td><td>2019-02-20</td><td>15</td><td>2019-02-10</td><td>200</td></tr><tr><td>2</td><td>2019-02-01</td><td>2019-02-20</td><td>15</td><td>2019-03-22</td><td>30</td></tr><tr><td>2</td><td>2019-02-21</td><td>2019-03-31</td><td>30</td><td>2019-02-10</td><td>200</td></tr><tr><td>2</td><td>2019-02-21</td><td>2019-03-31</td><td>30</td><td>2019-03-22</td><td>30</td></tr></tbody></table></div>"
      ]
     },
     "metadata": {
      "application/vnd.databricks.v1+output": {
       "addedWidgets": {},
       "aggData": [],
       "aggError": "",
       "aggOverflow": false,
       "aggSchema": [],
       "aggSeriesLimitReached": false,
       "aggType": "",
       "arguments": {},
       "columnCustomDisplayInfos": {},
       "data": [
        [
         1,
         "2019-02-17",
         "2019-02-28",
         5,
         "2019-02-25",
         100
        ],
        [
         1,
         "2019-02-17",
         "2019-02-28",
         5,
         "2019-03-01",
         15
        ],
        [
         1,
         "2019-03-01",
         "2019-03-22",
         20,
         "2019-02-25",
         100
        ],
        [
         1,
         "2019-03-01",
         "2019-03-22",
         20,
         "2019-03-01",
         15
        ],
        [
         2,
         "2019-02-01",
         "2019-02-20",
         15,
         "2019-02-10",
         200
        ],
        [
         2,
         "2019-02-01",
         "2019-02-20",
         15,
         "2019-03-22",
         30
        ],
        [
         2,
         "2019-02-21",
         "2019-03-31",
         30,
         "2019-02-10",
         200
        ],
        [
         2,
         "2019-02-21",
         "2019-03-31",
         30,
         "2019-03-22",
         30
        ]
       ],
       "datasetInfos": [],
       "dbfsResultPath": null,
       "isJsonSchema": true,
       "metadata": {},
       "overflow": false,
       "plotOptions": {
        "customPlotOptions": {},
        "displayType": "table",
        "pivotAggregation": null,
        "pivotColumns": null,
        "xColumns": null,
        "yColumns": null
       },
       "removedWidgets": [],
       "schema": [
        {
         "metadata": "{}",
         "name": "Id",
         "type": "\"integer\""
        },
        {
         "metadata": "{}",
         "name": "start_date",
         "type": "\"string\""
        },
        {
         "metadata": "{}",
         "name": "end_date",
         "type": "\"string\""
        },
        {
         "metadata": "{}",
         "name": "price",
         "type": "\"integer\""
        },
        {
         "metadata": "{}",
         "name": "purchase_date",
         "type": "\"string\""
        },
        {
         "metadata": "{}",
         "name": "units",
         "type": "\"integer\""
        }
       ],
       "type": "table"
      }
     },
     "output_type": "display_data"
    }
   ],
   "source": [
    "df_joined = df_prices.join(df_unitssold, df_prices.product_id==df_unitssold.product_id, \"inner\")\\\n",
    "    .select(df_prices.product_id.alias(\"Id\"), df_prices.start_date, df_prices.end_date, df_prices.price, df_unitssold.purchase_date, df_unitssold.units)\n",
    "df_joined.display()\n"
   ]
  },
  {
   "cell_type": "code",
   "execution_count": 0,
   "metadata": {
    "application/vnd.databricks.v1+cell": {
     "cellMetadata": {
      "byteLimit": 2048000,
      "rowLimit": 10000
     },
     "inputWidgets": {},
     "nuid": "82a1f419-cf83-41dd-a66c-48a31f271abf",
     "showTitle": false,
     "tableResultSettingsMap": {},
     "title": ""
    }
   },
   "outputs": [
    {
     "output_type": "display_data",
     "data": {
      "text/html": [
       "<style scoped>\n",
       "  .table-result-container {\n",
       "    max-height: 300px;\n",
       "    overflow: auto;\n",
       "  }\n",
       "  table, th, td {\n",
       "    border: 1px solid black;\n",
       "    border-collapse: collapse;\n",
       "  }\n",
       "  th, td {\n",
       "    padding: 5px;\n",
       "  }\n",
       "  th {\n",
       "    text-align: left;\n",
       "  }\n",
       "</style><div class='table-result-container'><table class='table-result'><thead style='background-color: white'><tr><th>Id</th><th>start_date</th><th>end_date</th><th>price</th><th>purchase_date</th><th>units</th></tr></thead><tbody><tr><td>1</td><td>2019-02-17</td><td>2019-02-28</td><td>5</td><td>2019-02-25</td><td>100</td></tr><tr><td>1</td><td>2019-03-01</td><td>2019-03-22</td><td>20</td><td>2019-03-01</td><td>15</td></tr><tr><td>2</td><td>2019-02-01</td><td>2019-02-20</td><td>15</td><td>2019-02-10</td><td>200</td></tr><tr><td>2</td><td>2019-02-21</td><td>2019-03-31</td><td>30</td><td>2019-03-22</td><td>30</td></tr></tbody></table></div>"
      ]
     },
     "metadata": {
      "application/vnd.databricks.v1+output": {
       "addedWidgets": {},
       "aggData": [],
       "aggError": "",
       "aggOverflow": false,
       "aggSchema": [],
       "aggSeriesLimitReached": false,
       "aggType": "",
       "arguments": {},
       "columnCustomDisplayInfos": {},
       "data": [
        [
         1,
         "2019-02-17",
         "2019-02-28",
         5,
         "2019-02-25",
         100
        ],
        [
         1,
         "2019-03-01",
         "2019-03-22",
         20,
         "2019-03-01",
         15
        ],
        [
         2,
         "2019-02-01",
         "2019-02-20",
         15,
         "2019-02-10",
         200
        ],
        [
         2,
         "2019-02-21",
         "2019-03-31",
         30,
         "2019-03-22",
         30
        ]
       ],
       "datasetInfos": [],
       "dbfsResultPath": null,
       "isJsonSchema": true,
       "metadata": {},
       "overflow": false,
       "plotOptions": {
        "customPlotOptions": {},
        "displayType": "table",
        "pivotAggregation": null,
        "pivotColumns": null,
        "xColumns": null,
        "yColumns": null
       },
       "removedWidgets": [],
       "schema": [
        {
         "metadata": "{}",
         "name": "Id",
         "type": "\"integer\""
        },
        {
         "metadata": "{}",
         "name": "start_date",
         "type": "\"string\""
        },
        {
         "metadata": "{}",
         "name": "end_date",
         "type": "\"string\""
        },
        {
         "metadata": "{}",
         "name": "price",
         "type": "\"integer\""
        },
        {
         "metadata": "{}",
         "name": "purchase_date",
         "type": "\"string\""
        },
        {
         "metadata": "{}",
         "name": "units",
         "type": "\"integer\""
        }
       ],
       "type": "table"
      }
     },
     "output_type": "display_data"
    }
   ],
   "source": [
    "\n",
    "df_result1 = df_joined.filter(\n",
    "    (df_joined[\"purchase_date\"] >= df_joined[\"start_date\"]) &\n",
    "    (df_joined[\"purchase_date\"] <= df_joined[\"end_date\"])\n",
    ")\n",
    "df_result1.display()\n"
   ]
  },
  {
   "cell_type": "code",
   "execution_count": 0,
   "metadata": {
    "application/vnd.databricks.v1+cell": {
     "cellMetadata": {
      "byteLimit": 2048000,
      "rowLimit": 10000
     },
     "inputWidgets": {},
     "nuid": "c1e9f2a6-32d9-4133-b992-79c5b99f0c42",
     "showTitle": false,
     "tableResultSettingsMap": {},
     "title": ""
    }
   },
   "outputs": [
    {
     "output_type": "display_data",
     "data": {
      "text/html": [
       "<style scoped>\n",
       "  .table-result-container {\n",
       "    max-height: 300px;\n",
       "    overflow: auto;\n",
       "  }\n",
       "  table, th, td {\n",
       "    border: 1px solid black;\n",
       "    border-collapse: collapse;\n",
       "  }\n",
       "  th, td {\n",
       "    padding: 5px;\n",
       "  }\n",
       "  th {\n",
       "    text-align: left;\n",
       "  }\n",
       "</style><div class='table-result-container'><table class='table-result'><thead style='background-color: white'><tr><th>Id</th><th>avg_price</th></tr></thead><tbody><tr><td>1</td><td>6.96</td></tr><tr><td>2</td><td>16.96</td></tr></tbody></table></div>"
      ]
     },
     "metadata": {
      "application/vnd.databricks.v1+output": {
       "addedWidgets": {},
       "aggData": [],
       "aggError": "",
       "aggOverflow": false,
       "aggSchema": [],
       "aggSeriesLimitReached": false,
       "aggType": "",
       "arguments": {},
       "columnCustomDisplayInfos": {},
       "data": [
        [
         1,
         6.96
        ],
        [
         2,
         16.96
        ]
       ],
       "datasetInfos": [],
       "dbfsResultPath": null,
       "isJsonSchema": true,
       "metadata": {},
       "overflow": false,
       "plotOptions": {
        "customPlotOptions": {},
        "displayType": "table",
        "pivotAggregation": null,
        "pivotColumns": null,
        "xColumns": null,
        "yColumns": null
       },
       "removedWidgets": [],
       "schema": [
        {
         "metadata": "{}",
         "name": "Id",
         "type": "\"integer\""
        },
        {
         "metadata": "{}",
         "name": "avg_price",
         "type": "\"double\""
        }
       ],
       "type": "table"
      }
     },
     "output_type": "display_data"
    }
   ],
   "source": [
    "\n",
    "df_final = df_result1.groupBy(\"Id\").agg(\n",
    "    round(sum(col(\"units\") * col(\"price\")) / sum(col(\"units\")), 2).alias(\"avg_price\")\n",
    ")\n",
    "df_final.display()"
   ]
  },
  {
   "cell_type": "markdown",
   "metadata": {
    "application/vnd.databricks.v1+cell": {
     "cellMetadata": {},
     "inputWidgets": {},
     "nuid": "8fa73103-828b-4cbb-8b46-0d3f47162cc0",
     "showTitle": false,
     "tableResultSettingsMap": {},
     "title": ""
    }
   },
   "source": [
    "SQL Solution "
   ]
  },
  {
   "cell_type": "code",
   "execution_count": 0,
   "metadata": {
    "application/vnd.databricks.v1+cell": {
     "cellMetadata": {
      "byteLimit": 2048000,
      "rowLimit": 10000
     },
     "inputWidgets": {},
     "nuid": "77ed3870-00e2-4a9d-8a8e-246ad1255c58",
     "showTitle": false,
     "tableResultSettingsMap": {},
     "title": ""
    }
   },
   "outputs": [],
   "source": [
    "df_prices.createOrReplaceTempView(\"prices\")\n",
    "df_unitssold.createOrReplaceTempView(\"units\")"
   ]
  },
  {
   "cell_type": "code",
   "execution_count": 0,
   "metadata": {
    "application/vnd.databricks.v1+cell": {
     "cellMetadata": {
      "byteLimit": 2048000,
      "rowLimit": 10000
     },
     "inputWidgets": {},
     "nuid": "2395f2c5-5cd7-4059-816a-a0bbd274f5e7",
     "showTitle": false,
     "tableResultSettingsMap": {},
     "title": ""
    }
   },
   "outputs": [
    {
     "output_type": "display_data",
     "data": {
      "text/html": [
       "<style scoped>\n",
       "  .table-result-container {\n",
       "    max-height: 300px;\n",
       "    overflow: auto;\n",
       "  }\n",
       "  table, th, td {\n",
       "    border: 1px solid black;\n",
       "    border-collapse: collapse;\n",
       "  }\n",
       "  th, td {\n",
       "    padding: 5px;\n",
       "  }\n",
       "  th {\n",
       "    text-align: left;\n",
       "  }\n",
       "</style><div class='table-result-container'><table class='table-result'><thead style='background-color: white'><tr><th>product_id</th><th>average_price</th></tr></thead><tbody><tr><td>1</td><td>6.96</td></tr><tr><td>2</td><td>16.96</td></tr></tbody></table></div>"
      ]
     },
     "metadata": {
      "application/vnd.databricks.v1+output": {
       "addedWidgets": {},
       "aggData": [],
       "aggError": "",
       "aggOverflow": false,
       "aggSchema": [],
       "aggSeriesLimitReached": false,
       "aggType": "",
       "arguments": {},
       "columnCustomDisplayInfos": {},
       "data": [
        [
         1,
         6.96
        ],
        [
         2,
         16.96
        ]
       ],
       "datasetInfos": [],
       "dbfsResultPath": null,
       "isJsonSchema": true,
       "metadata": {},
       "overflow": false,
       "plotOptions": {
        "customPlotOptions": {},
        "displayType": "table",
        "pivotAggregation": null,
        "pivotColumns": null,
        "xColumns": null,
        "yColumns": null
       },
       "removedWidgets": [],
       "schema": [
        {
         "metadata": "{}",
         "name": "product_id",
         "type": "\"integer\""
        },
        {
         "metadata": "{}",
         "name": "average_price",
         "type": "\"double\""
        }
       ],
       "type": "table"
      }
     },
     "output_type": "display_data"
    }
   ],
   "source": [
    "df_result = spark.sql(\"\"\"select p.product_id, round(SUM(u.units*p.price)/SUM(u.units),2) as average_price\n",
    "                        from prices P join units u\n",
    "                        on p.product_id = u.product_id\n",
    "                        where u.purchase_date between p.start_date and p.end_date\n",
    "                        group by 1\n",
    "                      \n",
    "                      \n",
    "                      \"\"\")\n",
    "df_result.display()"
   ]
  }
 ],
 "metadata": {
  "application/vnd.databricks.v1+notebook": {
   "dashboards": [],
   "environmentMetadata": null,
   "language": "python",
   "notebookMetadata": {
    "pythonIndentUnit": 4
   },
   "notebookName": "Revision _ Session_LeetCode1251",
   "widgets": {}
  }
 },
 "nbformat": 4,
 "nbformat_minor": 0
}
