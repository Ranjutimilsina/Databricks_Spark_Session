{
 "cells": [
  {
   "cell_type": "code",
   "execution_count": 0,
   "metadata": {
    "application/vnd.databricks.v1+cell": {
     "cellMetadata": {
      "byteLimit": 2048000,
      "rowLimit": 10000
     },
     "inputWidgets": {},
     "nuid": "e7cad8fe-9f3e-4b9b-b77c-a8f177df76a0",
     "showTitle": false,
     "tableResultSettingsMap": {},
     "title": ""
    }
   },
   "outputs": [],
   "source": [
    "#importing libraries and modules\n",
    "from pyspark.sql import SparkSession\n",
    "from pyspark.sql.types import *\n",
    "from pyspark.sql.functions import *\n",
    "\n",
    "\n",
    "#creating a spark session \n",
    "spark= SparkSession.builder.appName(\"Read\").getOrCreate()\n"
   ]
  },
  {
   "cell_type": "code",
   "execution_count": 0,
   "metadata": {
    "application/vnd.databricks.v1+cell": {
     "cellMetadata": {
      "byteLimit": 2048000,
      "rowLimit": 10000
     },
     "inputWidgets": {},
     "nuid": "dea467ca-fb96-4b45-b521-c5afa08d4ffd",
     "showTitle": false,
     "tableResultSettingsMap": {},
     "title": ""
    }
   },
   "outputs": [
    {
     "output_type": "display_data",
     "data": {
      "text/html": [
       "<style scoped>\n",
       "  .table-result-container {\n",
       "    max-height: 300px;\n",
       "    overflow: auto;\n",
       "  }\n",
       "  table, th, td {\n",
       "    border: 1px solid black;\n",
       "    border-collapse: collapse;\n",
       "  }\n",
       "  th, td {\n",
       "    padding: 5px;\n",
       "  }\n",
       "  th {\n",
       "    text-align: left;\n",
       "  }\n",
       "</style><div class='table-result-container'><table class='table-result'><thead style='background-color: white'><tr><th>id</th><th>name</th><th>age</th><th>department</th><th>salary</th><th>join_date</th></tr></thead><tbody><tr><td>1</td><td>John</td><td>34</td><td>IT</td><td>75000</td><td>2015-06-01</td></tr><tr><td>2</td><td>Sara</td><td>28</td><td>HR</td><td>58000</td><td>2019-09-15</td></tr><tr><td>3</td><td>Michael</td><td>45</td><td>Finance</td><td>120000</td><td>2010-01-10</td></tr><tr><td>4</td><td>Karen</td><td>29</td><td>IT</td><td>70000</td><td>2020-02-19</td></tr><tr><td>5</td><td>David</td><td>38</td><td>Finance</td><td>90000</td><td>2017-08-23</td></tr><tr><td>6</td><td>Linda</td><td>33</td><td>HR</td><td>60000</td><td>2018-12-05</td></tr><tr><td>7</td><td>James</td><td>41</td><td>IT</td><td>110000</td><td>2013-04-15</td></tr><tr><td>8</td><td>Emily</td><td>27</td><td>HR</td><td>52000</td><td>2021-06-20</td></tr><tr><td>9</td><td>Robert</td><td>36</td><td>Finance</td><td>105000</td><td>2016-11-30</td></tr></tbody></table></div>"
      ]
     },
     "metadata": {
      "application/vnd.databricks.v1+output": {
       "addedWidgets": {},
       "aggData": [],
       "aggError": "",
       "aggOverflow": false,
       "aggSchema": [],
       "aggSeriesLimitReached": false,
       "aggType": "",
       "arguments": {},
       "columnCustomDisplayInfos": {},
       "data": [
        [
         1,
         "John",
         34,
         "IT",
         75000,
         "2015-06-01"
        ],
        [
         2,
         "Sara",
         28,
         "HR",
         58000,
         "2019-09-15"
        ],
        [
         3,
         "Michael",
         45,
         "Finance",
         120000,
         "2010-01-10"
        ],
        [
         4,
         "Karen",
         29,
         "IT",
         70000,
         "2020-02-19"
        ],
        [
         5,
         "David",
         38,
         "Finance",
         90000,
         "2017-08-23"
        ],
        [
         6,
         "Linda",
         33,
         "HR",
         60000,
         "2018-12-05"
        ],
        [
         7,
         "James",
         41,
         "IT",
         110000,
         "2013-04-15"
        ],
        [
         8,
         "Emily",
         27,
         "HR",
         52000,
         "2021-06-20"
        ],
        [
         9,
         "Robert",
         36,
         "Finance",
         105000,
         "2016-11-30"
        ]
       ],
       "datasetInfos": [],
       "dbfsResultPath": null,
       "isJsonSchema": true,
       "metadata": {},
       "overflow": false,
       "plotOptions": {
        "customPlotOptions": {},
        "displayType": "table",
        "pivotAggregation": null,
        "pivotColumns": null,
        "xColumns": null,
        "yColumns": null
       },
       "removedWidgets": [],
       "schema": [
        {
         "metadata": "{}",
         "name": "id",
         "type": "\"integer\""
        },
        {
         "metadata": "{}",
         "name": "name",
         "type": "\"string\""
        },
        {
         "metadata": "{}",
         "name": "age",
         "type": "\"integer\""
        },
        {
         "metadata": "{}",
         "name": "department",
         "type": "\"string\""
        },
        {
         "metadata": "{}",
         "name": "salary",
         "type": "\"integer\""
        },
        {
         "metadata": "{\"__detected_date_formats\":\"M/d/yyyy\"}",
         "name": "join_date",
         "type": "\"date\""
        }
       ],
       "type": "table"
      }
     },
     "output_type": "display_data"
    }
   ],
   "source": [
    "df1 = spark.read.format(\"csv\").option(\"inferSchema\", True).option(\"header\", \"true\").load(\"dbfs:/FileStore/shared_uploads/timilsina.ra@northeastern.edu/assignment_employees.csv\")\n",
    "df1.display()"
   ]
  },
  {
   "cell_type": "markdown",
   "metadata": {
    "application/vnd.databricks.v1+cell": {
     "cellMetadata": {},
     "inputWidgets": {},
     "nuid": "2d15ceaf-b159-4643-a753-00164f868434",
     "showTitle": false,
     "tableResultSettingsMap": {},
     "title": ""
    }
   },
   "source": [
    "Question 1 - Display records of employees aged above 30."
   ]
  },
  {
   "cell_type": "code",
   "execution_count": 0,
   "metadata": {
    "application/vnd.databricks.v1+cell": {
     "cellMetadata": {
      "byteLimit": 2048000,
      "rowLimit": 10000
     },
     "inputWidgets": {},
     "nuid": "df299861-b888-40ea-b692-20fdfc72ab0e",
     "showTitle": false,
     "tableResultSettingsMap": {},
     "title": ""
    }
   },
   "outputs": [
    {
     "output_type": "display_data",
     "data": {
      "text/html": [
       "<style scoped>\n",
       "  .table-result-container {\n",
       "    max-height: 300px;\n",
       "    overflow: auto;\n",
       "  }\n",
       "  table, th, td {\n",
       "    border: 1px solid black;\n",
       "    border-collapse: collapse;\n",
       "  }\n",
       "  th, td {\n",
       "    padding: 5px;\n",
       "  }\n",
       "  th {\n",
       "    text-align: left;\n",
       "  }\n",
       "</style><div class='table-result-container'><table class='table-result'><thead style='background-color: white'><tr><th>id</th><th>name</th><th>age</th><th>department</th><th>salary</th><th>join_date</th></tr></thead><tbody><tr><td>1</td><td>John</td><td>34</td><td>IT</td><td>75000</td><td>2015-06-01</td></tr><tr><td>3</td><td>Michael</td><td>45</td><td>Finance</td><td>120000</td><td>2010-01-10</td></tr><tr><td>5</td><td>David</td><td>38</td><td>Finance</td><td>90000</td><td>2017-08-23</td></tr><tr><td>6</td><td>Linda</td><td>33</td><td>HR</td><td>60000</td><td>2018-12-05</td></tr><tr><td>7</td><td>James</td><td>41</td><td>IT</td><td>110000</td><td>2013-04-15</td></tr><tr><td>9</td><td>Robert</td><td>36</td><td>Finance</td><td>105000</td><td>2016-11-30</td></tr></tbody></table></div>"
      ]
     },
     "metadata": {
      "application/vnd.databricks.v1+output": {
       "addedWidgets": {},
       "aggData": [],
       "aggError": "",
       "aggOverflow": false,
       "aggSchema": [],
       "aggSeriesLimitReached": false,
       "aggType": "",
       "arguments": {},
       "columnCustomDisplayInfos": {},
       "data": [
        [
         1,
         "John",
         34,
         "IT",
         75000,
         "2015-06-01"
        ],
        [
         3,
         "Michael",
         45,
         "Finance",
         120000,
         "2010-01-10"
        ],
        [
         5,
         "David",
         38,
         "Finance",
         90000,
         "2017-08-23"
        ],
        [
         6,
         "Linda",
         33,
         "HR",
         60000,
         "2018-12-05"
        ],
        [
         7,
         "James",
         41,
         "IT",
         110000,
         "2013-04-15"
        ],
        [
         9,
         "Robert",
         36,
         "Finance",
         105000,
         "2016-11-30"
        ]
       ],
       "datasetInfos": [],
       "dbfsResultPath": null,
       "isJsonSchema": true,
       "metadata": {},
       "overflow": false,
       "plotOptions": {
        "customPlotOptions": {},
        "displayType": "table",
        "pivotAggregation": null,
        "pivotColumns": null,
        "xColumns": null,
        "yColumns": null
       },
       "removedWidgets": [],
       "schema": [
        {
         "metadata": "{}",
         "name": "id",
         "type": "\"integer\""
        },
        {
         "metadata": "{}",
         "name": "name",
         "type": "\"string\""
        },
        {
         "metadata": "{}",
         "name": "age",
         "type": "\"integer\""
        },
        {
         "metadata": "{}",
         "name": "department",
         "type": "\"string\""
        },
        {
         "metadata": "{}",
         "name": "salary",
         "type": "\"integer\""
        },
        {
         "metadata": "{\"__detected_date_formats\":\"M/d/yyyy\"}",
         "name": "join_date",
         "type": "\"date\""
        }
       ],
       "type": "table"
      }
     },
     "output_type": "display_data"
    }
   ],
   "source": [
    "df_emp_over_30 = df1.filter(col(\"age\")>30)\n",
    "df_emp_over_30.display()"
   ]
  },
  {
   "cell_type": "markdown",
   "metadata": {
    "application/vnd.databricks.v1+cell": {
     "cellMetadata": {
      "byteLimit": 2048000,
      "rowLimit": 10000
     },
     "inputWidgets": {},
     "nuid": "b92d253a-68ce-4711-ac46-5a9ef586acb4",
     "showTitle": false,
     "tableResultSettingsMap": {},
     "title": ""
    }
   },
   "source": [
    "Question 2 - Find the average salary of employees in each department."
   ]
  },
  {
   "cell_type": "code",
   "execution_count": 0,
   "metadata": {
    "application/vnd.databricks.v1+cell": {
     "cellMetadata": {
      "byteLimit": 2048000,
      "rowLimit": 10000
     },
     "inputWidgets": {},
     "nuid": "d3b96b3e-d33f-4727-8443-12232c9777ea",
     "showTitle": false,
     "tableResultSettingsMap": {},
     "title": ""
    }
   },
   "outputs": [
    {
     "output_type": "display_data",
     "data": {
      "text/html": [
       "<style scoped>\n",
       "  .table-result-container {\n",
       "    max-height: 300px;\n",
       "    overflow: auto;\n",
       "  }\n",
       "  table, th, td {\n",
       "    border: 1px solid black;\n",
       "    border-collapse: collapse;\n",
       "  }\n",
       "  th, td {\n",
       "    padding: 5px;\n",
       "  }\n",
       "  th {\n",
       "    text-align: left;\n",
       "  }\n",
       "</style><div class='table-result-container'><table class='table-result'><thead style='background-color: white'><tr><th>department</th><th>round(avg(salary), 0)</th></tr></thead><tbody><tr><td>HR</td><td>56667.0</td></tr><tr><td>Finance</td><td>105000.0</td></tr><tr><td>IT</td><td>85000.0</td></tr></tbody></table></div>"
      ]
     },
     "metadata": {
      "application/vnd.databricks.v1+output": {
       "addedWidgets": {},
       "aggData": [],
       "aggError": "",
       "aggOverflow": false,
       "aggSchema": [],
       "aggSeriesLimitReached": false,
       "aggType": "",
       "arguments": {},
       "columnCustomDisplayInfos": {},
       "data": [
        [
         "HR",
         56667.0
        ],
        [
         "Finance",
         105000.0
        ],
        [
         "IT",
         85000.0
        ]
       ],
       "datasetInfos": [],
       "dbfsResultPath": null,
       "isJsonSchema": true,
       "metadata": {},
       "overflow": false,
       "plotOptions": {
        "customPlotOptions": {},
        "displayType": "table",
        "pivotAggregation": null,
        "pivotColumns": null,
        "xColumns": null,
        "yColumns": null
       },
       "removedWidgets": [],
       "schema": [
        {
         "metadata": "{}",
         "name": "department",
         "type": "\"string\""
        },
        {
         "metadata": "{}",
         "name": "round(avg(salary), 0)",
         "type": "\"double\""
        }
       ],
       "type": "table"
      }
     },
     "output_type": "display_data"
    }
   ],
   "source": [
    "df_average_sal_by_dept= df1.groupBy(\"department\").agg(round(avg(\"salary\")))\n",
    "df_average_sal_by_dept.display()"
   ]
  },
  {
   "cell_type": "markdown",
   "metadata": {
    "application/vnd.databricks.v1+cell": {
     "cellMetadata": {},
     "inputWidgets": {},
     "nuid": "7d66c990-2fe0-472e-81f2-3105d89c16f3",
     "showTitle": false,
     "tableResultSettingsMap": {},
     "title": ""
    }
   },
   "source": [
    "Question 3 - Add a column experience indicating the number of years an employee has been working."
   ]
  },
  {
   "cell_type": "code",
   "execution_count": 0,
   "metadata": {
    "application/vnd.databricks.v1+cell": {
     "cellMetadata": {
      "byteLimit": 2048000,
      "rowLimit": 10000
     },
     "inputWidgets": {},
     "nuid": "8b9079e2-31b0-473b-94fe-83a3082ea07c",
     "showTitle": false,
     "tableResultSettingsMap": {},
     "title": ""
    }
   },
   "outputs": [
    {
     "output_type": "display_data",
     "data": {
      "text/html": [
       "<style scoped>\n",
       "  .table-result-container {\n",
       "    max-height: 300px;\n",
       "    overflow: auto;\n",
       "  }\n",
       "  table, th, td {\n",
       "    border: 1px solid black;\n",
       "    border-collapse: collapse;\n",
       "  }\n",
       "  th, td {\n",
       "    padding: 5px;\n",
       "  }\n",
       "  th {\n",
       "    text-align: left;\n",
       "  }\n",
       "</style><div class='table-result-container'><table class='table-result'><thead style='background-color: white'><tr><th>id</th><th>name</th><th>age</th><th>department</th><th>salary</th><th>join_date</th><th>experience</th></tr></thead><tbody><tr><td>1</td><td>John</td><td>34</td><td>IT</td><td>75000</td><td>2015-06-01</td><td>9</td></tr><tr><td>2</td><td>Sara</td><td>28</td><td>HR</td><td>58000</td><td>2019-09-15</td><td>5</td></tr><tr><td>3</td><td>Michael</td><td>45</td><td>Finance</td><td>120000</td><td>2010-01-10</td><td>14</td></tr><tr><td>4</td><td>Karen</td><td>29</td><td>IT</td><td>70000</td><td>2020-02-19</td><td>4</td></tr><tr><td>5</td><td>David</td><td>38</td><td>Finance</td><td>90000</td><td>2017-08-23</td><td>7</td></tr><tr><td>6</td><td>Linda</td><td>33</td><td>HR</td><td>60000</td><td>2018-12-05</td><td>5</td></tr><tr><td>7</td><td>James</td><td>41</td><td>IT</td><td>110000</td><td>2013-04-15</td><td>11</td></tr><tr><td>8</td><td>Emily</td><td>27</td><td>HR</td><td>52000</td><td>2021-06-20</td><td>3</td></tr><tr><td>9</td><td>Robert</td><td>36</td><td>Finance</td><td>105000</td><td>2016-11-30</td><td>8</td></tr></tbody></table></div>"
      ]
     },
     "metadata": {
      "application/vnd.databricks.v1+output": {
       "addedWidgets": {},
       "aggData": [],
       "aggError": "",
       "aggOverflow": false,
       "aggSchema": [],
       "aggSeriesLimitReached": false,
       "aggType": "",
       "arguments": {},
       "columnCustomDisplayInfos": {},
       "data": [
        [
         1,
         "John",
         34,
         "IT",
         75000,
         "2015-06-01",
         9
        ],
        [
         2,
         "Sara",
         28,
         "HR",
         58000,
         "2019-09-15",
         5
        ],
        [
         3,
         "Michael",
         45,
         "Finance",
         120000,
         "2010-01-10",
         14
        ],
        [
         4,
         "Karen",
         29,
         "IT",
         70000,
         "2020-02-19",
         4
        ],
        [
         5,
         "David",
         38,
         "Finance",
         90000,
         "2017-08-23",
         7
        ],
        [
         6,
         "Linda",
         33,
         "HR",
         60000,
         "2018-12-05",
         5
        ],
        [
         7,
         "James",
         41,
         "IT",
         110000,
         "2013-04-15",
         11
        ],
        [
         8,
         "Emily",
         27,
         "HR",
         52000,
         "2021-06-20",
         3
        ],
        [
         9,
         "Robert",
         36,
         "Finance",
         105000,
         "2016-11-30",
         8
        ]
       ],
       "datasetInfos": [],
       "dbfsResultPath": null,
       "isJsonSchema": true,
       "metadata": {},
       "overflow": false,
       "plotOptions": {
        "customPlotOptions": {},
        "displayType": "table",
        "pivotAggregation": null,
        "pivotColumns": null,
        "xColumns": null,
        "yColumns": null
       },
       "removedWidgets": [],
       "schema": [
        {
         "metadata": "{}",
         "name": "id",
         "type": "\"integer\""
        },
        {
         "metadata": "{}",
         "name": "name",
         "type": "\"string\""
        },
        {
         "metadata": "{}",
         "name": "age",
         "type": "\"integer\""
        },
        {
         "metadata": "{}",
         "name": "department",
         "type": "\"string\""
        },
        {
         "metadata": "{}",
         "name": "salary",
         "type": "\"integer\""
        },
        {
         "metadata": "{\"__detected_date_formats\":\"M/d/yyyy\"}",
         "name": "join_date",
         "type": "\"date\""
        },
        {
         "metadata": "{}",
         "name": "experience",
         "type": "\"long\""
        }
       ],
       "type": "table"
      }
     },
     "output_type": "display_data"
    }
   ],
   "source": [
    "\n",
    "df1 = df1.withColumn(\"experience\", floor(datediff(current_date(), (col(\"join_date\")))/365))\n",
    "\n",
    "df1.display()"
   ]
  },
  {
   "cell_type": "markdown",
   "metadata": {
    "application/vnd.databricks.v1+cell": {
     "cellMetadata": {},
     "inputWidgets": {},
     "nuid": "ffe4fbd8-02fa-4ddf-9d49-9296025978d9",
     "showTitle": false,
     "tableResultSettingsMap": {},
     "title": ""
    }
   },
   "source": [
    "Question 4 - Find the top 3 highest-paid employees."
   ]
  },
  {
   "cell_type": "code",
   "execution_count": 0,
   "metadata": {
    "application/vnd.databricks.v1+cell": {
     "cellMetadata": {
      "byteLimit": 2048000,
      "rowLimit": 10000
     },
     "inputWidgets": {},
     "nuid": "967de450-d1f2-452b-af00-b212cbd55d6f",
     "showTitle": false,
     "tableResultSettingsMap": {},
     "title": ""
    }
   },
   "outputs": [
    {
     "output_type": "display_data",
     "data": {
      "text/html": [
       "<style scoped>\n",
       "  .table-result-container {\n",
       "    max-height: 300px;\n",
       "    overflow: auto;\n",
       "  }\n",
       "  table, th, td {\n",
       "    border: 1px solid black;\n",
       "    border-collapse: collapse;\n",
       "  }\n",
       "  th, td {\n",
       "    padding: 5px;\n",
       "  }\n",
       "  th {\n",
       "    text-align: left;\n",
       "  }\n",
       "</style><div class='table-result-container'><table class='table-result'><thead style='background-color: white'><tr><th>id</th><th>name</th><th>age</th><th>department</th><th>salary</th><th>join_date</th><th>experience</th></tr></thead><tbody><tr><td>3</td><td>Michael</td><td>45</td><td>Finance</td><td>120000</td><td>2010-01-10</td><td>14</td></tr><tr><td>7</td><td>James</td><td>41</td><td>IT</td><td>110000</td><td>2013-04-15</td><td>11</td></tr><tr><td>9</td><td>Robert</td><td>36</td><td>Finance</td><td>105000</td><td>2016-11-30</td><td>8</td></tr></tbody></table></div>"
      ]
     },
     "metadata": {
      "application/vnd.databricks.v1+output": {
       "addedWidgets": {},
       "aggData": [],
       "aggError": "",
       "aggOverflow": false,
       "aggSchema": [],
       "aggSeriesLimitReached": false,
       "aggType": "",
       "arguments": {},
       "columnCustomDisplayInfos": {},
       "data": [
        [
         3,
         "Michael",
         45,
         "Finance",
         120000,
         "2010-01-10",
         14
        ],
        [
         7,
         "James",
         41,
         "IT",
         110000,
         "2013-04-15",
         11
        ],
        [
         9,
         "Robert",
         36,
         "Finance",
         105000,
         "2016-11-30",
         8
        ]
       ],
       "datasetInfos": [],
       "dbfsResultPath": null,
       "isJsonSchema": true,
       "metadata": {},
       "overflow": false,
       "plotOptions": {
        "customPlotOptions": {},
        "displayType": "table",
        "pivotAggregation": null,
        "pivotColumns": null,
        "xColumns": null,
        "yColumns": null
       },
       "removedWidgets": [],
       "schema": [
        {
         "metadata": "{}",
         "name": "id",
         "type": "\"integer\""
        },
        {
         "metadata": "{}",
         "name": "name",
         "type": "\"string\""
        },
        {
         "metadata": "{}",
         "name": "age",
         "type": "\"integer\""
        },
        {
         "metadata": "{}",
         "name": "department",
         "type": "\"string\""
        },
        {
         "metadata": "{}",
         "name": "salary",
         "type": "\"integer\""
        },
        {
         "metadata": "{\"__detected_date_formats\":\"M/d/yyyy\"}",
         "name": "join_date",
         "type": "\"date\""
        },
        {
         "metadata": "{}",
         "name": "experience",
         "type": "\"long\""
        }
       ],
       "type": "table"
      }
     },
     "output_type": "display_data"
    }
   ],
   "source": [
    "df_highest_paid= df1.orderBy(desc(\"Salary\")).limit(3)\n",
    "df_highest_paid.display()"
   ]
  },
  {
   "cell_type": "markdown",
   "metadata": {
    "application/vnd.databricks.v1+cell": {
     "cellMetadata": {},
     "inputWidgets": {},
     "nuid": "25641cfe-c255-4fac-8206-52f1cfe5a195",
     "showTitle": false,
     "tableResultSettingsMap": {},
     "title": ""
    }
   },
   "source": [
    "Question 5- Identify the department with the highest total salary."
   ]
  },
  {
   "cell_type": "code",
   "execution_count": 0,
   "metadata": {
    "application/vnd.databricks.v1+cell": {
     "cellMetadata": {
      "byteLimit": 2048000,
      "rowLimit": 10000
     },
     "inputWidgets": {},
     "nuid": "328441e9-097f-4e20-ad24-5084bdf70c96",
     "showTitle": false,
     "tableResultSettingsMap": {},
     "title": ""
    }
   },
   "outputs": [
    {
     "output_type": "display_data",
     "data": {
      "text/html": [
       "<style scoped>\n",
       "  .table-result-container {\n",
       "    max-height: 300px;\n",
       "    overflow: auto;\n",
       "  }\n",
       "  table, th, td {\n",
       "    border: 1px solid black;\n",
       "    border-collapse: collapse;\n",
       "  }\n",
       "  th, td {\n",
       "    padding: 5px;\n",
       "  }\n",
       "  th {\n",
       "    text-align: left;\n",
       "  }\n",
       "</style><div class='table-result-container'><table class='table-result'><thead style='background-color: white'><tr><th>department</th><th>total_salary</th></tr></thead><tbody><tr><td>HR</td><td>170000</td></tr><tr><td>Finance</td><td>315000</td></tr><tr><td>IT</td><td>255000</td></tr></tbody></table></div>"
      ]
     },
     "metadata": {
      "application/vnd.databricks.v1+output": {
       "addedWidgets": {},
       "aggData": [],
       "aggError": "",
       "aggOverflow": false,
       "aggSchema": [],
       "aggSeriesLimitReached": false,
       "aggType": "",
       "arguments": {},
       "columnCustomDisplayInfos": {},
       "data": [
        [
         "HR",
         170000
        ],
        [
         "Finance",
         315000
        ],
        [
         "IT",
         255000
        ]
       ],
       "datasetInfos": [],
       "dbfsResultPath": null,
       "isJsonSchema": true,
       "metadata": {},
       "overflow": false,
       "plotOptions": {
        "customPlotOptions": {},
        "displayType": "table",
        "pivotAggregation": null,
        "pivotColumns": null,
        "xColumns": null,
        "yColumns": null
       },
       "removedWidgets": [],
       "schema": [
        {
         "metadata": "{}",
         "name": "department",
         "type": "\"string\""
        },
        {
         "metadata": "{}",
         "name": "total_salary",
         "type": "\"long\""
        }
       ],
       "type": "table"
      }
     },
     "output_type": "display_data"
    },
    {
     "output_type": "display_data",
     "data": {
      "text/html": [
       "<style scoped>\n",
       "  .table-result-container {\n",
       "    max-height: 300px;\n",
       "    overflow: auto;\n",
       "  }\n",
       "  table, th, td {\n",
       "    border: 1px solid black;\n",
       "    border-collapse: collapse;\n",
       "  }\n",
       "  th, td {\n",
       "    padding: 5px;\n",
       "  }\n",
       "  th {\n",
       "    text-align: left;\n",
       "  }\n",
       "</style><div class='table-result-container'><table class='table-result'><thead style='background-color: white'><tr><th>department</th><th>total_salary</th></tr></thead><tbody><tr><td>Finance</td><td>315000</td></tr></tbody></table></div>"
      ]
     },
     "metadata": {
      "application/vnd.databricks.v1+output": {
       "addedWidgets": {},
       "aggData": [],
       "aggError": "",
       "aggOverflow": false,
       "aggSchema": [],
       "aggSeriesLimitReached": false,
       "aggType": "",
       "arguments": {},
       "columnCustomDisplayInfos": {},
       "data": [
        [
         "Finance",
         315000
        ]
       ],
       "datasetInfos": [],
       "dbfsResultPath": null,
       "isJsonSchema": true,
       "metadata": {},
       "overflow": false,
       "plotOptions": {
        "customPlotOptions": {},
        "displayType": "table",
        "pivotAggregation": null,
        "pivotColumns": null,
        "xColumns": null,
        "yColumns": null
       },
       "removedWidgets": [],
       "schema": [
        {
         "metadata": "{}",
         "name": "department",
         "type": "\"string\""
        },
        {
         "metadata": "{}",
         "name": "total_salary",
         "type": "\"long\""
        }
       ],
       "type": "table"
      }
     },
     "output_type": "display_data"
    }
   ],
   "source": [
    "df_salary_by_dept= df1.groupBy(\"department\").agg(sum(\"salary\").alias(\"total_salary\"))\n",
    "df_salary_by_dept.display()\n",
    "df_dept_with_highest_total_salary = df_salary_by_dept.orderBy(desc(\"total_salary\")).limit(1)\n",
    "df_dept_with_highest_total_salary.display()"
   ]
  },
  {
   "cell_type": "markdown",
   "metadata": {
    "application/vnd.databricks.v1+cell": {
     "cellMetadata": {},
     "inputWidgets": {},
     "nuid": "9c4807dc-23d8-45c4-87f1-994b842a4b8a",
     "showTitle": false,
     "tableResultSettingsMap": {},
     "title": ""
    }
   },
   "source": [
    "Question 6- Create a new DataFrame with employees earning more than the average salary."
   ]
  },
  {
   "cell_type": "code",
   "execution_count": 0,
   "metadata": {
    "application/vnd.databricks.v1+cell": {
     "cellMetadata": {
      "byteLimit": 2048000,
      "rowLimit": 10000
     },
     "inputWidgets": {},
     "nuid": "49f5a8f4-c17b-4ee7-aa07-f3ad5c9e831a",
     "showTitle": false,
     "tableResultSettingsMap": {},
     "title": ""
    }
   },
   "outputs": [
    {
     "output_type": "display_data",
     "data": {
      "text/html": [
       "<style scoped>\n",
       "  .table-result-container {\n",
       "    max-height: 300px;\n",
       "    overflow: auto;\n",
       "  }\n",
       "  table, th, td {\n",
       "    border: 1px solid black;\n",
       "    border-collapse: collapse;\n",
       "  }\n",
       "  th, td {\n",
       "    padding: 5px;\n",
       "  }\n",
       "  th {\n",
       "    text-align: left;\n",
       "  }\n",
       "</style><div class='table-result-container'><table class='table-result'><thead style='background-color: white'><tr><th>avg_salary</th></tr></thead><tbody><tr><td>82222.22</td></tr></tbody></table></div>"
      ]
     },
     "metadata": {
      "application/vnd.databricks.v1+output": {
       "addedWidgets": {},
       "aggData": [],
       "aggError": "",
       "aggOverflow": false,
       "aggSchema": [],
       "aggSeriesLimitReached": false,
       "aggType": "",
       "arguments": {},
       "columnCustomDisplayInfos": {},
       "data": [
        [
         82222.22
        ]
       ],
       "datasetInfos": [],
       "dbfsResultPath": null,
       "isJsonSchema": true,
       "metadata": {},
       "overflow": false,
       "plotOptions": {
        "customPlotOptions": {},
        "displayType": "table",
        "pivotAggregation": null,
        "pivotColumns": null,
        "xColumns": null,
        "yColumns": null
       },
       "removedWidgets": [],
       "schema": [
        {
         "metadata": "{}",
         "name": "avg_salary",
         "type": "\"double\""
        }
       ],
       "type": "table"
      }
     },
     "output_type": "display_data"
    },
    {
     "output_type": "display_data",
     "data": {
      "text/html": [
       "<style scoped>\n",
       "  .table-result-container {\n",
       "    max-height: 300px;\n",
       "    overflow: auto;\n",
       "  }\n",
       "  table, th, td {\n",
       "    border: 1px solid black;\n",
       "    border-collapse: collapse;\n",
       "  }\n",
       "  th, td {\n",
       "    padding: 5px;\n",
       "  }\n",
       "  th {\n",
       "    text-align: left;\n",
       "  }\n",
       "</style><div class='table-result-container'><table class='table-result'><thead style='background-color: white'><tr><th>id</th><th>name</th><th>age</th><th>department</th><th>salary</th><th>join_date</th><th>experience</th></tr></thead><tbody><tr><td>3</td><td>Michael</td><td>45</td><td>Finance</td><td>120000</td><td>2010-01-10</td><td>14</td></tr><tr><td>5</td><td>David</td><td>38</td><td>Finance</td><td>90000</td><td>2017-08-23</td><td>7</td></tr><tr><td>7</td><td>James</td><td>41</td><td>IT</td><td>110000</td><td>2013-04-15</td><td>11</td></tr><tr><td>9</td><td>Robert</td><td>36</td><td>Finance</td><td>105000</td><td>2016-11-30</td><td>8</td></tr></tbody></table></div>"
      ]
     },
     "metadata": {
      "application/vnd.databricks.v1+output": {
       "addedWidgets": {},
       "aggData": [],
       "aggError": "",
       "aggOverflow": false,
       "aggSchema": [],
       "aggSeriesLimitReached": false,
       "aggType": "",
       "arguments": {},
       "columnCustomDisplayInfos": {},
       "data": [
        [
         3,
         "Michael",
         45,
         "Finance",
         120000,
         "2010-01-10",
         14
        ],
        [
         5,
         "David",
         38,
         "Finance",
         90000,
         "2017-08-23",
         7
        ],
        [
         7,
         "James",
         41,
         "IT",
         110000,
         "2013-04-15",
         11
        ],
        [
         9,
         "Robert",
         36,
         "Finance",
         105000,
         "2016-11-30",
         8
        ]
       ],
       "datasetInfos": [],
       "dbfsResultPath": null,
       "isJsonSchema": true,
       "metadata": {},
       "overflow": false,
       "plotOptions": {
        "customPlotOptions": {},
        "displayType": "table",
        "pivotAggregation": null,
        "pivotColumns": null,
        "xColumns": null,
        "yColumns": null
       },
       "removedWidgets": [],
       "schema": [
        {
         "metadata": "{}",
         "name": "id",
         "type": "\"integer\""
        },
        {
         "metadata": "{}",
         "name": "name",
         "type": "\"string\""
        },
        {
         "metadata": "{}",
         "name": "age",
         "type": "\"integer\""
        },
        {
         "metadata": "{}",
         "name": "department",
         "type": "\"string\""
        },
        {
         "metadata": "{}",
         "name": "salary",
         "type": "\"integer\""
        },
        {
         "metadata": "{\"__detected_date_formats\":\"M/d/yyyy\"}",
         "name": "join_date",
         "type": "\"date\""
        },
        {
         "metadata": "{}",
         "name": "experience",
         "type": "\"long\""
        }
       ],
       "type": "table"
      }
     },
     "output_type": "display_data"
    }
   ],
   "source": [
    "#calculating average salary overall \n",
    "df_average_sal_overall = df1.agg(round(avg(\"salary\"),2).alias(\"avg_salary\"))\n",
    "df_average_sal_overall.display()\n",
    "\n",
    "#fetching the value \n",
    "avg_salary_value = df_average_sal_overall.collect()[0][\"avg_salary\"]\n",
    "\n",
    "#filtering the data \n",
    "df_emp_making_above_average = df1.filter(col(\"salary\") > avg_salary_value)\n",
    "df_emp_making_above_average.display()\n"
   ]
  },
  {
   "cell_type": "markdown",
   "metadata": {
    "application/vnd.databricks.v1+cell": {
     "cellMetadata": {
      "byteLimit": 2048000,
      "rowLimit": 10000
     },
     "inputWidgets": {},
     "nuid": "df45c47e-8bd2-49c5-9db5-ec6e30170fd8",
     "showTitle": false,
     "tableResultSettingsMap": {},
     "title": ""
    }
   },
   "source": [
    "Question 7 - Rename the column name to employee_name."
   ]
  },
  {
   "cell_type": "code",
   "execution_count": 0,
   "metadata": {
    "application/vnd.databricks.v1+cell": {
     "cellMetadata": {
      "byteLimit": 2048000,
      "rowLimit": 10000
     },
     "inputWidgets": {},
     "nuid": "effa0a35-8883-463d-8d22-83812a9036fa",
     "showTitle": false,
     "tableResultSettingsMap": {},
     "title": ""
    }
   },
   "outputs": [
    {
     "output_type": "display_data",
     "data": {
      "text/html": [
       "<style scoped>\n",
       "  .table-result-container {\n",
       "    max-height: 300px;\n",
       "    overflow: auto;\n",
       "  }\n",
       "  table, th, td {\n",
       "    border: 1px solid black;\n",
       "    border-collapse: collapse;\n",
       "  }\n",
       "  th, td {\n",
       "    padding: 5px;\n",
       "  }\n",
       "  th {\n",
       "    text-align: left;\n",
       "  }\n",
       "</style><div class='table-result-container'><table class='table-result'><thead style='background-color: white'><tr><th>id</th><th>employee_name</th><th>age</th><th>department</th><th>salary</th><th>join_date</th><th>experience</th></tr></thead><tbody><tr><td>1</td><td>John</td><td>34</td><td>IT</td><td>75000</td><td>2015-06-01</td><td>9</td></tr><tr><td>2</td><td>Sara</td><td>28</td><td>HR</td><td>58000</td><td>2019-09-15</td><td>5</td></tr><tr><td>3</td><td>Michael</td><td>45</td><td>Finance</td><td>120000</td><td>2010-01-10</td><td>14</td></tr><tr><td>4</td><td>Karen</td><td>29</td><td>IT</td><td>70000</td><td>2020-02-19</td><td>4</td></tr><tr><td>5</td><td>David</td><td>38</td><td>Finance</td><td>90000</td><td>2017-08-23</td><td>7</td></tr><tr><td>6</td><td>Linda</td><td>33</td><td>HR</td><td>60000</td><td>2018-12-05</td><td>5</td></tr><tr><td>7</td><td>James</td><td>41</td><td>IT</td><td>110000</td><td>2013-04-15</td><td>11</td></tr><tr><td>8</td><td>Emily</td><td>27</td><td>HR</td><td>52000</td><td>2021-06-20</td><td>3</td></tr><tr><td>9</td><td>Robert</td><td>36</td><td>Finance</td><td>105000</td><td>2016-11-30</td><td>8</td></tr></tbody></table></div>"
      ]
     },
     "metadata": {
      "application/vnd.databricks.v1+output": {
       "addedWidgets": {},
       "aggData": [],
       "aggError": "",
       "aggOverflow": false,
       "aggSchema": [],
       "aggSeriesLimitReached": false,
       "aggType": "",
       "arguments": {},
       "columnCustomDisplayInfos": {},
       "data": [
        [
         1,
         "John",
         34,
         "IT",
         75000,
         "2015-06-01",
         9
        ],
        [
         2,
         "Sara",
         28,
         "HR",
         58000,
         "2019-09-15",
         5
        ],
        [
         3,
         "Michael",
         45,
         "Finance",
         120000,
         "2010-01-10",
         14
        ],
        [
         4,
         "Karen",
         29,
         "IT",
         70000,
         "2020-02-19",
         4
        ],
        [
         5,
         "David",
         38,
         "Finance",
         90000,
         "2017-08-23",
         7
        ],
        [
         6,
         "Linda",
         33,
         "HR",
         60000,
         "2018-12-05",
         5
        ],
        [
         7,
         "James",
         41,
         "IT",
         110000,
         "2013-04-15",
         11
        ],
        [
         8,
         "Emily",
         27,
         "HR",
         52000,
         "2021-06-20",
         3
        ],
        [
         9,
         "Robert",
         36,
         "Finance",
         105000,
         "2016-11-30",
         8
        ]
       ],
       "datasetInfos": [],
       "dbfsResultPath": null,
       "isJsonSchema": true,
       "metadata": {},
       "overflow": false,
       "plotOptions": {
        "customPlotOptions": {},
        "displayType": "table",
        "pivotAggregation": null,
        "pivotColumns": null,
        "xColumns": null,
        "yColumns": null
       },
       "removedWidgets": [],
       "schema": [
        {
         "metadata": "{}",
         "name": "id",
         "type": "\"integer\""
        },
        {
         "metadata": "{}",
         "name": "employee_name",
         "type": "\"string\""
        },
        {
         "metadata": "{}",
         "name": "age",
         "type": "\"integer\""
        },
        {
         "metadata": "{}",
         "name": "department",
         "type": "\"string\""
        },
        {
         "metadata": "{}",
         "name": "salary",
         "type": "\"integer\""
        },
        {
         "metadata": "{\"__detected_date_formats\":\"M/d/yyyy\"}",
         "name": "join_date",
         "type": "\"date\""
        },
        {
         "metadata": "{}",
         "name": "experience",
         "type": "\"long\""
        }
       ],
       "type": "table"
      }
     },
     "output_type": "display_data"
    }
   ],
   "source": [
    "df1= df1.withColumnRenamed(\"name\", \"employee_name\")\n",
    "df1.display()"
   ]
  },
  {
   "cell_type": "markdown",
   "metadata": {
    "application/vnd.databricks.v1+cell": {
     "cellMetadata": {},
     "inputWidgets": {},
     "nuid": "49a7b72f-1b01-40e8-9128-fa96faa2ea1f",
     "showTitle": false,
     "tableResultSettingsMap": {},
     "title": ""
    }
   },
   "source": [
    "Question 8 - Find the number of employees in each department."
   ]
  },
  {
   "cell_type": "code",
   "execution_count": 0,
   "metadata": {
    "application/vnd.databricks.v1+cell": {
     "cellMetadata": {
      "byteLimit": 2048000,
      "rowLimit": 10000
     },
     "inputWidgets": {},
     "nuid": "371852ed-4486-4819-82f9-5871267f171c",
     "showTitle": false,
     "tableResultSettingsMap": {},
     "title": ""
    }
   },
   "outputs": [
    {
     "output_type": "display_data",
     "data": {
      "text/html": [
       "<style scoped>\n",
       "  .table-result-container {\n",
       "    max-height: 300px;\n",
       "    overflow: auto;\n",
       "  }\n",
       "  table, th, td {\n",
       "    border: 1px solid black;\n",
       "    border-collapse: collapse;\n",
       "  }\n",
       "  th, td {\n",
       "    padding: 5px;\n",
       "  }\n",
       "  th {\n",
       "    text-align: left;\n",
       "  }\n",
       "</style><div class='table-result-container'><table class='table-result'><thead style='background-color: white'><tr><th>department</th><th>emp_by_department</th></tr></thead><tbody><tr><td>HR</td><td>3</td></tr><tr><td>Finance</td><td>3</td></tr><tr><td>IT</td><td>3</td></tr></tbody></table></div>"
      ]
     },
     "metadata": {
      "application/vnd.databricks.v1+output": {
       "addedWidgets": {},
       "aggData": [],
       "aggError": "",
       "aggOverflow": false,
       "aggSchema": [],
       "aggSeriesLimitReached": false,
       "aggType": "",
       "arguments": {},
       "columnCustomDisplayInfos": {},
       "data": [
        [
         "HR",
         3
        ],
        [
         "Finance",
         3
        ],
        [
         "IT",
         3
        ]
       ],
       "datasetInfos": [],
       "dbfsResultPath": null,
       "isJsonSchema": true,
       "metadata": {},
       "overflow": false,
       "plotOptions": {
        "customPlotOptions": {},
        "displayType": "table",
        "pivotAggregation": null,
        "pivotColumns": null,
        "xColumns": null,
        "yColumns": null
       },
       "removedWidgets": [],
       "schema": [
        {
         "metadata": "{}",
         "name": "department",
         "type": "\"string\""
        },
        {
         "metadata": "{}",
         "name": "emp_by_department",
         "type": "\"long\""
        }
       ],
       "type": "table"
      }
     },
     "output_type": "display_data"
    }
   ],
   "source": [
    "df1_emp_count = df1.groupBy(\"department\").agg(count(\"id\").alias (\"emp_by_department\"))\n",
    "df1_emp_count.display()"
   ]
  },
  {
   "cell_type": "markdown",
   "metadata": {
    "application/vnd.databricks.v1+cell": {
     "cellMetadata": {},
     "inputWidgets": {},
     "nuid": "89fcfd3a-68be-4cf5-a9b4-c39b606a21e1",
     "showTitle": false,
     "tableResultSettingsMap": {},
     "title": ""
    }
   },
   "source": [
    "Question 9 - Select and display only the id and name columns."
   ]
  },
  {
   "cell_type": "code",
   "execution_count": 0,
   "metadata": {
    "application/vnd.databricks.v1+cell": {
     "cellMetadata": {
      "byteLimit": 2048000,
      "rowLimit": 10000
     },
     "inputWidgets": {},
     "nuid": "e804c587-ca1b-477c-85bf-e1129b648cde",
     "showTitle": false,
     "tableResultSettingsMap": {},
     "title": ""
    }
   },
   "outputs": [
    {
     "output_type": "display_data",
     "data": {
      "text/html": [
       "<style scoped>\n",
       "  .table-result-container {\n",
       "    max-height: 300px;\n",
       "    overflow: auto;\n",
       "  }\n",
       "  table, th, td {\n",
       "    border: 1px solid black;\n",
       "    border-collapse: collapse;\n",
       "  }\n",
       "  th, td {\n",
       "    padding: 5px;\n",
       "  }\n",
       "  th {\n",
       "    text-align: left;\n",
       "  }\n",
       "</style><div class='table-result-container'><table class='table-result'><thead style='background-color: white'><tr><th>id</th><th>employee_name</th></tr></thead><tbody><tr><td>1</td><td>John</td></tr><tr><td>2</td><td>Sara</td></tr><tr><td>3</td><td>Michael</td></tr><tr><td>4</td><td>Karen</td></tr><tr><td>5</td><td>David</td></tr><tr><td>6</td><td>Linda</td></tr><tr><td>7</td><td>James</td></tr><tr><td>8</td><td>Emily</td></tr><tr><td>9</td><td>Robert</td></tr></tbody></table></div>"
      ]
     },
     "metadata": {
      "application/vnd.databricks.v1+output": {
       "addedWidgets": {},
       "aggData": [],
       "aggError": "",
       "aggOverflow": false,
       "aggSchema": [],
       "aggSeriesLimitReached": false,
       "aggType": "",
       "arguments": {},
       "columnCustomDisplayInfos": {},
       "data": [
        [
         1,
         "John"
        ],
        [
         2,
         "Sara"
        ],
        [
         3,
         "Michael"
        ],
        [
         4,
         "Karen"
        ],
        [
         5,
         "David"
        ],
        [
         6,
         "Linda"
        ],
        [
         7,
         "James"
        ],
        [
         8,
         "Emily"
        ],
        [
         9,
         "Robert"
        ]
       ],
       "datasetInfos": [],
       "dbfsResultPath": null,
       "isJsonSchema": true,
       "metadata": {},
       "overflow": false,
       "plotOptions": {
        "customPlotOptions": {},
        "displayType": "table",
        "pivotAggregation": null,
        "pivotColumns": null,
        "xColumns": null,
        "yColumns": null
       },
       "removedWidgets": [],
       "schema": [
        {
         "metadata": "{}",
         "name": "id",
         "type": "\"integer\""
        },
        {
         "metadata": "{}",
         "name": "employee_name",
         "type": "\"string\""
        }
       ],
       "type": "table"
      }
     },
     "output_type": "display_data"
    }
   ],
   "source": [
    "df_name_id = df1.select(\"id\", \"employee_name\")\n",
    "df_name_id.display()"
   ]
  },
  {
   "cell_type": "markdown",
   "metadata": {
    "application/vnd.databricks.v1+cell": {
     "cellMetadata": {},
     "inputWidgets": {},
     "nuid": "cc8163b3-429d-427e-afae-1f39ba6e7cb5",
     "showTitle": false,
     "tableResultSettingsMap": {},
     "title": ""
    }
   },
   "source": [
    "Question 10 - Check for any null values in the dataset."
   ]
  },
  {
   "cell_type": "code",
   "execution_count": 0,
   "metadata": {
    "application/vnd.databricks.v1+cell": {
     "cellMetadata": {
      "byteLimit": 2048000,
      "rowLimit": 10000
     },
     "inputWidgets": {},
     "nuid": "b1d249f6-1e64-42e2-a813-2d03c7424757",
     "showTitle": false,
     "tableResultSettingsMap": {},
     "title": ""
    }
   },
   "outputs": [
    {
     "output_type": "display_data",
     "data": {
      "text/html": [
       "<style scoped>\n",
       "  .table-result-container {\n",
       "    max-height: 300px;\n",
       "    overflow: auto;\n",
       "  }\n",
       "  table, th, td {\n",
       "    border: 1px solid black;\n",
       "    border-collapse: collapse;\n",
       "  }\n",
       "  th, td {\n",
       "    padding: 5px;\n",
       "  }\n",
       "  th {\n",
       "    text-align: left;\n",
       "  }\n",
       "</style><div class='table-result-container'><table class='table-result'><thead style='background-color: white'><tr><th>(id IS NULL)</th><th>(employee_name IS NULL)</th><th>(age IS NULL)</th><th>(department IS NULL)</th><th>(salary IS NULL)</th><th>(join_date IS NULL)</th><th>(experience IS NULL)</th></tr></thead><tbody><tr><td>false</td><td>false</td><td>false</td><td>false</td><td>false</td><td>false</td><td>false</td></tr><tr><td>false</td><td>false</td><td>false</td><td>false</td><td>false</td><td>false</td><td>false</td></tr><tr><td>false</td><td>false</td><td>false</td><td>false</td><td>false</td><td>false</td><td>false</td></tr><tr><td>false</td><td>false</td><td>false</td><td>false</td><td>false</td><td>false</td><td>false</td></tr><tr><td>false</td><td>false</td><td>false</td><td>false</td><td>false</td><td>false</td><td>false</td></tr><tr><td>false</td><td>false</td><td>false</td><td>false</td><td>false</td><td>false</td><td>false</td></tr><tr><td>false</td><td>false</td><td>false</td><td>false</td><td>false</td><td>false</td><td>false</td></tr><tr><td>false</td><td>false</td><td>false</td><td>false</td><td>false</td><td>false</td><td>false</td></tr><tr><td>false</td><td>false</td><td>false</td><td>false</td><td>false</td><td>false</td><td>false</td></tr></tbody></table></div>"
      ]
     },
     "metadata": {
      "application/vnd.databricks.v1+output": {
       "addedWidgets": {},
       "aggData": [],
       "aggError": "",
       "aggOverflow": false,
       "aggSchema": [],
       "aggSeriesLimitReached": false,
       "aggType": "",
       "arguments": {},
       "columnCustomDisplayInfos": {},
       "data": [
        [
         false,
         false,
         false,
         false,
         false,
         false,
         false
        ],
        [
         false,
         false,
         false,
         false,
         false,
         false,
         false
        ],
        [
         false,
         false,
         false,
         false,
         false,
         false,
         false
        ],
        [
         false,
         false,
         false,
         false,
         false,
         false,
         false
        ],
        [
         false,
         false,
         false,
         false,
         false,
         false,
         false
        ],
        [
         false,
         false,
         false,
         false,
         false,
         false,
         false
        ],
        [
         false,
         false,
         false,
         false,
         false,
         false,
         false
        ],
        [
         false,
         false,
         false,
         false,
         false,
         false,
         false
        ],
        [
         false,
         false,
         false,
         false,
         false,
         false,
         false
        ]
       ],
       "datasetInfos": [],
       "dbfsResultPath": null,
       "isJsonSchema": true,
       "metadata": {},
       "overflow": false,
       "plotOptions": {
        "customPlotOptions": {},
        "displayType": "table",
        "pivotAggregation": null,
        "pivotColumns": null,
        "xColumns": null,
        "yColumns": null
       },
       "removedWidgets": [],
       "schema": [
        {
         "metadata": "{}",
         "name": "(id IS NULL)",
         "type": "\"boolean\""
        },
        {
         "metadata": "{}",
         "name": "(employee_name IS NULL)",
         "type": "\"boolean\""
        },
        {
         "metadata": "{}",
         "name": "(age IS NULL)",
         "type": "\"boolean\""
        },
        {
         "metadata": "{}",
         "name": "(department IS NULL)",
         "type": "\"boolean\""
        },
        {
         "metadata": "{}",
         "name": "(salary IS NULL)",
         "type": "\"boolean\""
        },
        {
         "metadata": "{}",
         "name": "(join_date IS NULL)",
         "type": "\"boolean\""
        },
        {
         "metadata": "{}",
         "name": "(experience IS NULL)",
         "type": "\"boolean\""
        }
       ],
       "type": "table"
      }
     },
     "output_type": "display_data"
    }
   ],
   "source": [
    "df_is_null= df1.select([col(c).isNull() for c in df1.columns]).display()\n"
   ]
  }
 ],
 "metadata": {
  "application/vnd.databricks.v1+notebook": {
   "dashboards": [],
   "environmentMetadata": null,
   "language": "python",
   "notebookMetadata": {
    "pythonIndentUnit": 4
   },
   "notebookName": "Assignment_Employees",
   "widgets": {}
  }
 },
 "nbformat": 4,
 "nbformat_minor": 0
}
