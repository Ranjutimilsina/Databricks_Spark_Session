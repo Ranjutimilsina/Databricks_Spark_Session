{
 "cells": [
  {
   "cell_type": "code",
   "execution_count": 0,
   "metadata": {
    "application/vnd.databricks.v1+cell": {
     "cellMetadata": {
      "byteLimit": 2048000,
      "rowLimit": 10000
     },
     "inputWidgets": {},
     "nuid": "c1bbc8c1-09e3-41b0-8380-a045e4233c97",
     "showTitle": false,
     "tableResultSettingsMap": {},
     "title": ""
    }
   },
   "outputs": [],
   "source": [
    "from pyspark.sql import SparkSession\n",
    "from pyspark.sql.functions import *\n",
    "from pyspark.sql.types import *\n",
    "from pyspark.sql.window import Window\n",
    "\n",
    "spark = SparkSession.builder.appName(\"Read\").getOrCreate()"
   ]
  },
  {
   "cell_type": "code",
   "execution_count": 0,
   "metadata": {
    "application/vnd.databricks.v1+cell": {
     "cellMetadata": {
      "byteLimit": 2048000,
      "rowLimit": 10000
     },
     "inputWidgets": {},
     "nuid": "df514c47-f211-4659-8f19-3ad312575fdd",
     "showTitle": false,
     "tableResultSettingsMap": {},
     "title": ""
    }
   },
   "outputs": [
    {
     "output_type": "display_data",
     "data": {
      "text/html": [
       "<style scoped>\n",
       "  .table-result-container {\n",
       "    max-height: 300px;\n",
       "    overflow: auto;\n",
       "  }\n",
       "  table, th, td {\n",
       "    border: 1px solid black;\n",
       "    border-collapse: collapse;\n",
       "  }\n",
       "  th, td {\n",
       "    padding: 5px;\n",
       "  }\n",
       "  th {\n",
       "    text-align: left;\n",
       "  }\n",
       "</style><div class='table-result-container'><table class='table-result'><thead style='background-color: white'><tr><th>id</th><th>name</th><th>score</th><th>courseId</th></tr></thead><tbody><tr><td>1</td><td>Alice</td><td>95</td><td>1</td></tr><tr><td>2</td><td>Bob</td><td>85</td><td>1</td></tr><tr><td>3</td><td>Charlie</td><td>90</td><td>2</td></tr><tr><td>4</td><td>Dave</td><td>70</td><td>1</td></tr><tr><td>5</td><td>Eve</td><td>88</td><td>2</td></tr><tr><td>6</td><td>Frank</td><td>80</td><td>2</td></tr><tr><td>7</td><td>Grace</td><td>92</td><td>2</td></tr></tbody></table></div>"
      ]
     },
     "metadata": {
      "application/vnd.databricks.v1+output": {
       "addedWidgets": {},
       "aggData": [],
       "aggError": "",
       "aggOverflow": false,
       "aggSchema": [],
       "aggSeriesLimitReached": false,
       "aggType": "",
       "arguments": {},
       "columnCustomDisplayInfos": {},
       "data": [
        [
         1,
         "Alice",
         95,
         1
        ],
        [
         2,
         "Bob",
         85,
         1
        ],
        [
         3,
         "Charlie",
         90,
         2
        ],
        [
         4,
         "Dave",
         70,
         1
        ],
        [
         5,
         "Eve",
         88,
         2
        ],
        [
         6,
         "Frank",
         80,
         2
        ],
        [
         7,
         "Grace",
         92,
         2
        ]
       ],
       "datasetInfos": [],
       "dbfsResultPath": null,
       "isJsonSchema": true,
       "metadata": {},
       "overflow": false,
       "plotOptions": {
        "customPlotOptions": {},
        "displayType": "table",
        "pivotAggregation": null,
        "pivotColumns": null,
        "xColumns": null,
        "yColumns": null
       },
       "removedWidgets": [],
       "schema": [
        {
         "metadata": "{}",
         "name": "id",
         "type": "\"integer\""
        },
        {
         "metadata": "{}",
         "name": "name",
         "type": "\"string\""
        },
        {
         "metadata": "{}",
         "name": "score",
         "type": "\"integer\""
        },
        {
         "metadata": "{}",
         "name": "courseId",
         "type": "\"integer\""
        }
       ],
       "type": "table"
      }
     },
     "output_type": "display_data"
    },
    {
     "output_type": "display_data",
     "data": {
      "text/html": [
       "<style scoped>\n",
       "  .table-result-container {\n",
       "    max-height: 300px;\n",
       "    overflow: auto;\n",
       "  }\n",
       "  table, th, td {\n",
       "    border: 1px solid black;\n",
       "    border-collapse: collapse;\n",
       "  }\n",
       "  th, td {\n",
       "    padding: 5px;\n",
       "  }\n",
       "  th {\n",
       "    text-align: left;\n",
       "  }\n",
       "</style><div class='table-result-container'><table class='table-result'><thead style='background-color: white'><tr><th>id</th><th>name</th></tr></thead><tbody><tr><td>1</td><td>Math</td></tr><tr><td>2</td><td>Science</td></tr></tbody></table></div>"
      ]
     },
     "metadata": {
      "application/vnd.databricks.v1+output": {
       "addedWidgets": {},
       "aggData": [],
       "aggError": "",
       "aggOverflow": false,
       "aggSchema": [],
       "aggSeriesLimitReached": false,
       "aggType": "",
       "arguments": {},
       "columnCustomDisplayInfos": {},
       "data": [
        [
         1,
         "Math"
        ],
        [
         2,
         "Science"
        ]
       ],
       "datasetInfos": [],
       "dbfsResultPath": null,
       "isJsonSchema": true,
       "metadata": {},
       "overflow": false,
       "plotOptions": {
        "customPlotOptions": {},
        "displayType": "table",
        "pivotAggregation": null,
        "pivotColumns": null,
        "xColumns": null,
        "yColumns": null
       },
       "removedWidgets": [],
       "schema": [
        {
         "metadata": "{}",
         "name": "id",
         "type": "\"integer\""
        },
        {
         "metadata": "{}",
         "name": "name",
         "type": "\"string\""
        }
       ],
       "type": "table"
      }
     },
     "output_type": "display_data"
    }
   ],
   "source": [
    "\n",
    "schema_student= StructType([StructField('id', IntegerType(), True),\n",
    "                            StructField('name', StringType(), True),\n",
    "                            StructField('score', IntegerType(), True),\n",
    "                            StructField('courseId', IntegerType(), True)])\n",
    "Student = [(1,'Alice', 95, 1),\n",
    "           (2, 'Bob', 85, 1),\n",
    "           (3, 'Charlie', 90, 2),\n",
    "           (4, 'Dave', 70, 1),\n",
    "           (5, 'Eve', 88, 2),\n",
    "           (6, 'Frank', 80, 2),\n",
    "           (7, 'Grace', 92, 2)]\n",
    "\n",
    "df_student= spark.createDataFrame(Student, schema_student)\n",
    "df_student.display()\n",
    "\n",
    "schema_course= StructType([StructField('id', IntegerType(), True),\n",
    "                           StructField('name', StringType(), True)])\n",
    "\n",
    "Course = [(1, 'Math'),\n",
    "          (2, 'Science')]\n",
    "\n",
    "df_course= spark.createDataFrame(Course, schema_course)\n",
    "df_course.display()\n"
   ]
  },
  {
   "cell_type": "code",
   "execution_count": 0,
   "metadata": {
    "application/vnd.databricks.v1+cell": {
     "cellMetadata": {
      "byteLimit": 2048000,
      "rowLimit": 10000
     },
     "inputWidgets": {},
     "nuid": "dc8ac790-d1b3-4611-b2c0-11292f044d9f",
     "showTitle": false,
     "tableResultSettingsMap": {},
     "title": ""
    }
   },
   "outputs": [],
   "source": [
    "df_student.createTempView('student')\n",
    "df_course.createTempView('course')"
   ]
  },
  {
   "cell_type": "markdown",
   "metadata": {
    "application/vnd.databricks.v1+cell": {
     "cellMetadata": {},
     "inputWidgets": {},
     "nuid": "377b0004-91c0-4a2e-b813-42e5ead8305a",
     "showTitle": false,
     "tableResultSettingsMap": {},
     "title": ""
    }
   },
   "source": [
    "We need to rank the students within each course based on their score in descending order (highest score gets rank 1).\n",
    "We will then fetch the top 3 students in each course."
   ]
  },
  {
   "cell_type": "code",
   "execution_count": 0,
   "metadata": {
    "application/vnd.databricks.v1+cell": {
     "cellMetadata": {
      "byteLimit": 2048000,
      "rowLimit": 10000
     },
     "inputWidgets": {},
     "nuid": "2e915fee-5592-4c09-a885-3def26e6d225",
     "showTitle": false,
     "tableResultSettingsMap": {},
     "title": ""
    }
   },
   "outputs": [
    {
     "output_type": "display_data",
     "data": {
      "text/html": [
       "<style scoped>\n",
       "  .table-result-container {\n",
       "    max-height: 300px;\n",
       "    overflow: auto;\n",
       "  }\n",
       "  table, th, td {\n",
       "    border: 1px solid black;\n",
       "    border-collapse: collapse;\n",
       "  }\n",
       "  th, td {\n",
       "    padding: 5px;\n",
       "  }\n",
       "  th {\n",
       "    text-align: left;\n",
       "  }\n",
       "</style><div class='table-result-container'><table class='table-result'><thead style='background-color: white'><tr><th>student_name</th><th>course_name</th><th>score</th></tr></thead><tbody><tr><td>Alice</td><td>Math</td><td>95</td></tr><tr><td>Bob</td><td>Math</td><td>85</td></tr><tr><td>Grace</td><td>Science</td><td>92</td></tr><tr><td>Charlie</td><td>Science</td><td>90</td></tr></tbody></table></div>"
      ]
     },
     "metadata": {
      "application/vnd.databricks.v1+output": {
       "addedWidgets": {},
       "aggData": [],
       "aggError": "",
       "aggOverflow": false,
       "aggSchema": [],
       "aggSeriesLimitReached": false,
       "aggType": "",
       "arguments": {},
       "columnCustomDisplayInfos": {},
       "data": [
        [
         "Alice",
         "Math",
         95
        ],
        [
         "Bob",
         "Math",
         85
        ],
        [
         "Grace",
         "Science",
         92
        ],
        [
         "Charlie",
         "Science",
         90
        ]
       ],
       "datasetInfos": [],
       "dbfsResultPath": null,
       "isJsonSchema": true,
       "metadata": {},
       "overflow": false,
       "plotOptions": {
        "customPlotOptions": {},
        "displayType": "table",
        "pivotAggregation": null,
        "pivotColumns": null,
        "xColumns": null,
        "yColumns": null
       },
       "removedWidgets": [],
       "schema": [
        {
         "metadata": "{}",
         "name": "student_name",
         "type": "\"string\""
        },
        {
         "metadata": "{}",
         "name": "course_name",
         "type": "\"string\""
        },
        {
         "metadata": "{}",
         "name": "score",
         "type": "\"integer\""
        }
       ],
       "type": "table"
      }
     },
     "output_type": "display_data"
    }
   ],
   "source": [
    "df_result = spark.sql(\"\"\" with ranked_student as (select s.name as student_name , c. name as course_name ,  s.score, dense_rank() over (partition by s.courseId order by s.score desc) as rank \n",
    "                      from student s join course c on s.courseId = c.id )\n",
    " select student_name , course_name , score from ranked_student where rank <= 2\n",
    "\"\"\")\n",
    "df_result.display()"
   ]
  },
  {
   "cell_type": "code",
   "execution_count": 0,
   "metadata": {
    "application/vnd.databricks.v1+cell": {
     "cellMetadata": {
      "byteLimit": 2048000,
      "rowLimit": 10000
     },
     "inputWidgets": {},
     "nuid": "0aa0e283-a641-498f-a8fc-53047bc0cf71",
     "showTitle": false,
     "tableResultSettingsMap": {},
     "title": ""
    }
   },
   "outputs": [
    {
     "output_type": "display_data",
     "data": {
      "text/html": [
       "<style scoped>\n",
       "  .table-result-container {\n",
       "    max-height: 300px;\n",
       "    overflow: auto;\n",
       "  }\n",
       "  table, th, td {\n",
       "    border: 1px solid black;\n",
       "    border-collapse: collapse;\n",
       "  }\n",
       "  th, td {\n",
       "    padding: 5px;\n",
       "  }\n",
       "  th {\n",
       "    text-align: left;\n",
       "  }\n",
       "</style><div class='table-result-container'><table class='table-result'><thead style='background-color: white'><tr><th>student_name</th><th>course_name</th><th>score</th><th>rank</th></tr></thead><tbody><tr><td>Alice</td><td>Math</td><td>95</td><td>1</td></tr><tr><td>Bob</td><td>Math</td><td>85</td><td>2</td></tr><tr><td>Grace</td><td>Science</td><td>92</td><td>1</td></tr><tr><td>Charlie</td><td>Science</td><td>90</td><td>2</td></tr></tbody></table></div>"
      ]
     },
     "metadata": {
      "application/vnd.databricks.v1+output": {
       "addedWidgets": {},
       "aggData": [],
       "aggError": "",
       "aggOverflow": false,
       "aggSchema": [],
       "aggSeriesLimitReached": false,
       "aggType": "",
       "arguments": {},
       "columnCustomDisplayInfos": {},
       "data": [
        [
         "Alice",
         "Math",
         95,
         1
        ],
        [
         "Bob",
         "Math",
         85,
         2
        ],
        [
         "Grace",
         "Science",
         92,
         1
        ],
        [
         "Charlie",
         "Science",
         90,
         2
        ]
       ],
       "datasetInfos": [],
       "dbfsResultPath": null,
       "isJsonSchema": true,
       "metadata": {},
       "overflow": false,
       "plotOptions": {
        "customPlotOptions": {},
        "displayType": "table",
        "pivotAggregation": null,
        "pivotColumns": null,
        "xColumns": null,
        "yColumns": null
       },
       "removedWidgets": [],
       "schema": [
        {
         "metadata": "{}",
         "name": "student_name",
         "type": "\"string\""
        },
        {
         "metadata": "{}",
         "name": "course_name",
         "type": "\"string\""
        },
        {
         "metadata": "{}",
         "name": "score",
         "type": "\"integer\""
        },
        {
         "metadata": "{}",
         "name": "rank",
         "type": "\"integer\""
        }
       ],
       "type": "table"
      }
     },
     "output_type": "display_data"
    }
   ],
   "source": [
    "df_joined = df_student.join(df_course, df_student.courseId == df_course.id , \"inner\")\\\n",
    "    .select(df_student.name.alias ('student_name'), df_course.name.alias('course_name'), df_student.score )\n",
    "\n",
    "window_spec = Window.partitionBy('course_name').orderBy(desc('score'))\n",
    "\n",
    "df_ranked = df_joined.withColumn('rank', dense_rank().over(window_spec))\n",
    "\n",
    "df_top_2 = df_ranked. filter(df_ranked.rank <=2)\n",
    "\n",
    "df_top_2.display()"
   ]
  }
 ],
 "metadata": {
  "application/vnd.databricks.v1+notebook": {
   "dashboards": [],
   "environmentMetadata": null,
   "language": "python",
   "notebookMetadata": {
    "pythonIndentUnit": 4
   },
   "notebookName": "Score",
   "widgets": {}
  }
 },
 "nbformat": 4,
 "nbformat_minor": 0
}
