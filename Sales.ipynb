{
 "cells": [
  {
   "cell_type": "code",
   "execution_count": 0,
   "metadata": {
    "application/vnd.databricks.v1+cell": {
     "cellMetadata": {
      "byteLimit": 2048000,
      "rowLimit": 10000
     },
     "inputWidgets": {},
     "nuid": "b970a96a-57b4-43e0-ad95-b57dd0ca97ff",
     "showTitle": false,
     "tableResultSettingsMap": {},
     "title": ""
    }
   },
   "outputs": [],
   "source": [
    "#Importing spark sessions\n",
    "from pyspark.sql import SparkSession\n",
    "from pyspark.sql.types import *\n",
    "from pyspark.sql.functions import *\n",
    "\n",
    "\n",
    "# Creating a spark session\n",
    "spark = SparkSession.builder.appName(\"Read\").getOrCreate()"
   ]
  },
  {
   "cell_type": "code",
   "execution_count": 0,
   "metadata": {
    "application/vnd.databricks.v1+cell": {
     "cellMetadata": {
      "byteLimit": 2048000,
      "rowLimit": 10000
     },
     "inputWidgets": {},
     "nuid": "6feea0aa-85ad-4f34-9cbb-8b7b629df945",
     "showTitle": false,
     "tableResultSettingsMap": {},
     "title": ""
    }
   },
   "outputs": [],
   "source": [
    "# create schema \n",
    "\n",
    "my_schema = StructType([\n",
    "    StructField(\"transaction_id\", IntegerType(), True),  \n",
    "    StructField(\"customer_id\", IntegerType(), True),\n",
    "    StructField(\"product\", StringType(), True),\n",
    "    StructField(\"quantity\", IntegerType(), True),\n",
    "    StructField(\"price\", FloatType(), True),\n",
    "    StructField(\"date\", DateType(), True),\n",
    "    StructField(\"region\", StringType(), True)  \n",
    "])\n"
   ]
  },
  {
   "cell_type": "code",
   "execution_count": 0,
   "metadata": {
    "application/vnd.databricks.v1+cell": {
     "cellMetadata": {
      "byteLimit": 2048000,
      "rowLimit": 10000
     },
     "inputWidgets": {},
     "nuid": "8caefb44-67a4-4d49-8830-7fcc2884f396",
     "showTitle": false,
     "tableResultSettingsMap": {},
     "title": ""
    }
   },
   "outputs": [
    {
     "output_type": "display_data",
     "data": {
      "text/html": [
       "<style scoped>\n",
       "  .table-result-container {\n",
       "    max-height: 300px;\n",
       "    overflow: auto;\n",
       "  }\n",
       "  table, th, td {\n",
       "    border: 1px solid black;\n",
       "    border-collapse: collapse;\n",
       "  }\n",
       "  th, td {\n",
       "    padding: 5px;\n",
       "  }\n",
       "  th {\n",
       "    text-align: left;\n",
       "  }\n",
       "</style><div class='table-result-container'><table class='table-result'><thead style='background-color: white'><tr><th>transaction_id</th><th>customer_id</th><th>product</th><th>quantity</th><th>price</th><th>date</th><th>region</th></tr></thead><tbody><tr><td>1</td><td>101</td><td>Notebook</td><td>2</td><td>500</td><td>2024-01-15</td><td>North</td></tr><tr><td>2</td><td>102</td><td>Pencil</td><td>10</td><td>20</td><td>2024-01-16</td><td>South</td></tr><tr><td>3</td><td>103</td><td>Notebook</td><td>1</td><td>500</td><td>2024-01-17</td><td>East</td></tr><tr><td>4</td><td>104</td><td>Pen</td><td>5</td><td>100</td><td>2024-01-18</td><td>West</td></tr><tr><td>5</td><td>105</td><td>Notebook</td><td>3</td><td>500</td><td>2024-01-19</td><td>North</td></tr><tr><td>6</td><td>101</td><td>Pencil</td><td>4</td><td>20</td><td>2024-01-20</td><td>South</td></tr><tr><td>7</td><td>103</td><td>Pen</td><td>2</td><td>100</td><td>2024-01-21</td><td>East</td></tr><tr><td>8</td><td>102</td><td>Notebook</td><td>1</td><td>500</td><td>2024-01-22</td><td>West</td></tr><tr><td>9</td><td>104</td><td>Pencil</td><td>8</td><td>20</td><td>2024-01-23</td><td>North</td></tr><tr><td>10</td><td>105</td><td>Notebook</td><td>2</td><td>500</td><td>2024-01-24</td><td>South</td></tr></tbody></table></div>"
      ]
     },
     "metadata": {
      "application/vnd.databricks.v1+output": {
       "addedWidgets": {},
       "aggData": [],
       "aggError": "",
       "aggOverflow": false,
       "aggSchema": [],
       "aggSeriesLimitReached": false,
       "aggType": "",
       "arguments": {},
       "columnCustomDisplayInfos": {},
       "data": [
        [
         1,
         101,
         "Notebook",
         2,
         500,
         "2024-01-15",
         "North"
        ],
        [
         2,
         102,
         "Pencil",
         10,
         20,
         "2024-01-16",
         "South"
        ],
        [
         3,
         103,
         "Notebook",
         1,
         500,
         "2024-01-17",
         "East"
        ],
        [
         4,
         104,
         "Pen",
         5,
         100,
         "2024-01-18",
         "West"
        ],
        [
         5,
         105,
         "Notebook",
         3,
         500,
         "2024-01-19",
         "North"
        ],
        [
         6,
         101,
         "Pencil",
         4,
         20,
         "2024-01-20",
         "South"
        ],
        [
         7,
         103,
         "Pen",
         2,
         100,
         "2024-01-21",
         "East"
        ],
        [
         8,
         102,
         "Notebook",
         1,
         500,
         "2024-01-22",
         "West"
        ],
        [
         9,
         104,
         "Pencil",
         8,
         20,
         "2024-01-23",
         "North"
        ],
        [
         10,
         105,
         "Notebook",
         2,
         500,
         "2024-01-24",
         "South"
        ]
       ],
       "datasetInfos": [],
       "dbfsResultPath": null,
       "isJsonSchema": true,
       "metadata": {},
       "overflow": false,
       "plotOptions": {
        "customPlotOptions": {},
        "displayType": "table",
        "pivotAggregation": null,
        "pivotColumns": null,
        "xColumns": null,
        "yColumns": null
       },
       "removedWidgets": [],
       "schema": [
        {
         "metadata": "{}",
         "name": "transaction_id",
         "type": "\"integer\""
        },
        {
         "metadata": "{}",
         "name": "customer_id",
         "type": "\"integer\""
        },
        {
         "metadata": "{}",
         "name": "product",
         "type": "\"string\""
        },
        {
         "metadata": "{}",
         "name": "quantity",
         "type": "\"integer\""
        },
        {
         "metadata": "{}",
         "name": "price",
         "type": "\"integer\""
        },
        {
         "metadata": "{\"__detected_date_formats\":\"M/d/yyyy\"}",
         "name": "date",
         "type": "\"date\""
        },
        {
         "metadata": "{}",
         "name": "region",
         "type": "\"string\""
        }
       ],
       "type": "table"
      }
     },
     "output_type": "display_data"
    }
   ],
   "source": [
    "# reading data\n",
    "df1 = spark.read.format(\"csv\").option(\"inferSchema\", True).option(\"header\", \"true\").load(\"dbfs:/FileStore/shared_uploads/timilsina.ra@northeastern.edu/dataset-1.csv\")\n",
    "df1.display()"
   ]
  },
  {
   "cell_type": "markdown",
   "metadata": {
    "application/vnd.databricks.v1+cell": {
     "cellMetadata": {},
     "inputWidgets": {},
     "nuid": "89214136-4009-4521-a31b-5f2d603bacfa",
     "showTitle": false,
     "tableResultSettingsMap": {},
     "title": ""
    }
   },
   "source": [
    "Question 1 - Find the total sales amount for each region."
   ]
  },
  {
   "cell_type": "code",
   "execution_count": 0,
   "metadata": {
    "application/vnd.databricks.v1+cell": {
     "cellMetadata": {
      "byteLimit": 2048000,
      "rowLimit": 10000
     },
     "inputWidgets": {},
     "nuid": "7bfd6106-3592-4e36-b29e-4f14bc82e641",
     "showTitle": false,
     "tableResultSettingsMap": {},
     "title": ""
    }
   },
   "outputs": [
    {
     "output_type": "display_data",
     "data": {
      "text/html": [
       "<style scoped>\n",
       "  .table-result-container {\n",
       "    max-height: 300px;\n",
       "    overflow: auto;\n",
       "  }\n",
       "  table, th, td {\n",
       "    border: 1px solid black;\n",
       "    border-collapse: collapse;\n",
       "  }\n",
       "  th, td {\n",
       "    padding: 5px;\n",
       "  }\n",
       "  th {\n",
       "    text-align: left;\n",
       "  }\n",
       "</style><div class='table-result-container'><table class='table-result'><thead style='background-color: white'><tr><th>transaction_id</th><th>customer_id</th><th>product</th><th>quantity</th><th>price</th><th>date</th><th>region</th><th>total_sales</th></tr></thead><tbody><tr><td>1</td><td>101</td><td>Notebook</td><td>2</td><td>500</td><td>2024-01-15</td><td>North</td><td>1000</td></tr><tr><td>2</td><td>102</td><td>Pencil</td><td>10</td><td>20</td><td>2024-01-16</td><td>South</td><td>200</td></tr><tr><td>3</td><td>103</td><td>Notebook</td><td>1</td><td>500</td><td>2024-01-17</td><td>East</td><td>500</td></tr><tr><td>4</td><td>104</td><td>Pen</td><td>5</td><td>100</td><td>2024-01-18</td><td>West</td><td>500</td></tr><tr><td>5</td><td>105</td><td>Notebook</td><td>3</td><td>500</td><td>2024-01-19</td><td>North</td><td>1500</td></tr><tr><td>6</td><td>101</td><td>Pencil</td><td>4</td><td>20</td><td>2024-01-20</td><td>South</td><td>80</td></tr><tr><td>7</td><td>103</td><td>Pen</td><td>2</td><td>100</td><td>2024-01-21</td><td>East</td><td>200</td></tr><tr><td>8</td><td>102</td><td>Notebook</td><td>1</td><td>500</td><td>2024-01-22</td><td>West</td><td>500</td></tr><tr><td>9</td><td>104</td><td>Pencil</td><td>8</td><td>20</td><td>2024-01-23</td><td>North</td><td>160</td></tr><tr><td>10</td><td>105</td><td>Notebook</td><td>2</td><td>500</td><td>2024-01-24</td><td>South</td><td>1000</td></tr></tbody></table></div>"
      ]
     },
     "metadata": {
      "application/vnd.databricks.v1+output": {
       "addedWidgets": {},
       "aggData": [],
       "aggError": "",
       "aggOverflow": false,
       "aggSchema": [],
       "aggSeriesLimitReached": false,
       "aggType": "",
       "arguments": {},
       "columnCustomDisplayInfos": {},
       "data": [
        [
         1,
         101,
         "Notebook",
         2,
         500,
         "2024-01-15",
         "North",
         1000
        ],
        [
         2,
         102,
         "Pencil",
         10,
         20,
         "2024-01-16",
         "South",
         200
        ],
        [
         3,
         103,
         "Notebook",
         1,
         500,
         "2024-01-17",
         "East",
         500
        ],
        [
         4,
         104,
         "Pen",
         5,
         100,
         "2024-01-18",
         "West",
         500
        ],
        [
         5,
         105,
         "Notebook",
         3,
         500,
         "2024-01-19",
         "North",
         1500
        ],
        [
         6,
         101,
         "Pencil",
         4,
         20,
         "2024-01-20",
         "South",
         80
        ],
        [
         7,
         103,
         "Pen",
         2,
         100,
         "2024-01-21",
         "East",
         200
        ],
        [
         8,
         102,
         "Notebook",
         1,
         500,
         "2024-01-22",
         "West",
         500
        ],
        [
         9,
         104,
         "Pencil",
         8,
         20,
         "2024-01-23",
         "North",
         160
        ],
        [
         10,
         105,
         "Notebook",
         2,
         500,
         "2024-01-24",
         "South",
         1000
        ]
       ],
       "datasetInfos": [],
       "dbfsResultPath": null,
       "isJsonSchema": true,
       "metadata": {},
       "overflow": false,
       "plotOptions": {
        "customPlotOptions": {},
        "displayType": "table",
        "pivotAggregation": null,
        "pivotColumns": null,
        "xColumns": null,
        "yColumns": null
       },
       "removedWidgets": [],
       "schema": [
        {
         "metadata": "{}",
         "name": "transaction_id",
         "type": "\"integer\""
        },
        {
         "metadata": "{}",
         "name": "customer_id",
         "type": "\"integer\""
        },
        {
         "metadata": "{}",
         "name": "product",
         "type": "\"string\""
        },
        {
         "metadata": "{}",
         "name": "quantity",
         "type": "\"integer\""
        },
        {
         "metadata": "{}",
         "name": "price",
         "type": "\"integer\""
        },
        {
         "metadata": "{\"__detected_date_formats\":\"M/d/yyyy\"}",
         "name": "date",
         "type": "\"date\""
        },
        {
         "metadata": "{}",
         "name": "region",
         "type": "\"string\""
        },
        {
         "metadata": "{}",
         "name": "total_sales",
         "type": "\"integer\""
        }
       ],
       "type": "table"
      }
     },
     "output_type": "display_data"
    }
   ],
   "source": [
    "#Find the total sales amount for each region.\n",
    "#Creating a new column for total sales \n",
    "\n",
    "df1 = df1.withColumn(\"total_sales\", col(\"quantity\") * col(\"price\"))\n",
    "df1.display()\n"
   ]
  },
  {
   "cell_type": "code",
   "execution_count": 0,
   "metadata": {
    "application/vnd.databricks.v1+cell": {
     "cellMetadata": {
      "byteLimit": 2048000,
      "rowLimit": 10000
     },
     "inputWidgets": {},
     "nuid": "4185cf30-9812-43e0-a220-b68e13ccfc72",
     "showTitle": false,
     "tableResultSettingsMap": {},
     "title": ""
    }
   },
   "outputs": [
    {
     "output_type": "display_data",
     "data": {
      "text/html": [
       "<style scoped>\n",
       "  .table-result-container {\n",
       "    max-height: 300px;\n",
       "    overflow: auto;\n",
       "  }\n",
       "  table, th, td {\n",
       "    border: 1px solid black;\n",
       "    border-collapse: collapse;\n",
       "  }\n",
       "  th, td {\n",
       "    padding: 5px;\n",
       "  }\n",
       "  th {\n",
       "    text-align: left;\n",
       "  }\n",
       "</style><div class='table-result-container'><table class='table-result'><thead style='background-color: white'><tr><th>region</th><th>total_sales_by_region</th></tr></thead><tbody><tr><td>South</td><td>1280</td></tr><tr><td>East</td><td>700</td></tr><tr><td>West</td><td>1000</td></tr><tr><td>North</td><td>2660</td></tr></tbody></table></div>"
      ]
     },
     "metadata": {
      "application/vnd.databricks.v1+output": {
       "addedWidgets": {},
       "aggData": [],
       "aggError": "",
       "aggOverflow": false,
       "aggSchema": [],
       "aggSeriesLimitReached": false,
       "aggType": "",
       "arguments": {},
       "columnCustomDisplayInfos": {},
       "data": [
        [
         "South",
         1280
        ],
        [
         "East",
         700
        ],
        [
         "West",
         1000
        ],
        [
         "North",
         2660
        ]
       ],
       "datasetInfos": [],
       "dbfsResultPath": null,
       "isJsonSchema": true,
       "metadata": {},
       "overflow": false,
       "plotOptions": {
        "customPlotOptions": {},
        "displayType": "table",
        "pivotAggregation": null,
        "pivotColumns": null,
        "xColumns": null,
        "yColumns": null
       },
       "removedWidgets": [],
       "schema": [
        {
         "metadata": "{}",
         "name": "region",
         "type": "\"string\""
        },
        {
         "metadata": "{}",
         "name": "total_sales_by_region",
         "type": "\"long\""
        }
       ],
       "type": "table"
      }
     },
     "output_type": "display_data"
    }
   ],
   "source": [
    "#Find the total sales amount for each region.\n",
    "\n",
    "df1_sales_by_region = df1.groupBy(\"region\").agg(\n",
    "    sum(\"total_sales\").alias(\"total_sales_by_region\")\n",
    ")\n",
    "df1_sales_by_region.display()"
   ]
  },
  {
   "cell_type": "markdown",
   "metadata": {
    "application/vnd.databricks.v1+cell": {
     "cellMetadata": {},
     "inputWidgets": {},
     "nuid": "7b8b064b-b70c-4741-9180-5ec913dbb47b",
     "showTitle": false,
     "tableResultSettingsMap": {},
     "title": ""
    }
   },
   "source": [
    "Question 2 -Identify the most purchased product by each customer."
   ]
  },
  {
   "cell_type": "code",
   "execution_count": 0,
   "metadata": {
    "application/vnd.databricks.v1+cell": {
     "cellMetadata": {
      "byteLimit": 2048000,
      "rowLimit": 10000
     },
     "inputWidgets": {},
     "nuid": "2c1a74d2-0303-44ee-98c4-9c0c64aa5791",
     "showTitle": false,
     "tableResultSettingsMap": {},
     "title": ""
    }
   },
   "outputs": [
    {
     "output_type": "display_data",
     "data": {
      "text/html": [
       "<style scoped>\n",
       "  .table-result-container {\n",
       "    max-height: 300px;\n",
       "    overflow: auto;\n",
       "  }\n",
       "  table, th, td {\n",
       "    border: 1px solid black;\n",
       "    border-collapse: collapse;\n",
       "  }\n",
       "  th, td {\n",
       "    padding: 5px;\n",
       "  }\n",
       "  th {\n",
       "    text-align: left;\n",
       "  }\n",
       "</style><div class='table-result-container'><table class='table-result'><thead style='background-color: white'><tr><th>customer_id</th><th>product</th><th>total_quantity</th></tr></thead><tbody><tr><td>101</td><td>Notebook</td><td>2</td></tr><tr><td>104</td><td>Pencil</td><td>8</td></tr><tr><td>105</td><td>Notebook</td><td>5</td></tr><tr><td>103</td><td>Pen</td><td>2</td></tr><tr><td>102</td><td>Pencil</td><td>10</td></tr><tr><td>103</td><td>Notebook</td><td>1</td></tr><tr><td>104</td><td>Pen</td><td>5</td></tr><tr><td>102</td><td>Notebook</td><td>1</td></tr><tr><td>101</td><td>Pencil</td><td>4</td></tr></tbody></table></div>"
      ]
     },
     "metadata": {
      "application/vnd.databricks.v1+output": {
       "addedWidgets": {},
       "aggData": [],
       "aggError": "",
       "aggOverflow": false,
       "aggSchema": [],
       "aggSeriesLimitReached": false,
       "aggType": "",
       "arguments": {},
       "columnCustomDisplayInfos": {},
       "data": [
        [
         101,
         "Notebook",
         2
        ],
        [
         104,
         "Pencil",
         8
        ],
        [
         105,
         "Notebook",
         5
        ],
        [
         103,
         "Pen",
         2
        ],
        [
         102,
         "Pencil",
         10
        ],
        [
         103,
         "Notebook",
         1
        ],
        [
         104,
         "Pen",
         5
        ],
        [
         102,
         "Notebook",
         1
        ],
        [
         101,
         "Pencil",
         4
        ]
       ],
       "datasetInfos": [],
       "dbfsResultPath": null,
       "isJsonSchema": true,
       "metadata": {},
       "overflow": false,
       "plotOptions": {
        "customPlotOptions": {},
        "displayType": "table",
        "pivotAggregation": null,
        "pivotColumns": null,
        "xColumns": null,
        "yColumns": null
       },
       "removedWidgets": [],
       "schema": [
        {
         "metadata": "{}",
         "name": "customer_id",
         "type": "\"integer\""
        },
        {
         "metadata": "{}",
         "name": "product",
         "type": "\"string\""
        },
        {
         "metadata": "{}",
         "name": "total_quantity",
         "type": "\"long\""
        }
       ],
       "type": "table"
      }
     },
     "output_type": "display_data"
    },
    {
     "output_type": "display_data",
     "data": {
      "text/html": [
       "<style scoped>\n",
       "  .table-result-container {\n",
       "    max-height: 300px;\n",
       "    overflow: auto;\n",
       "  }\n",
       "  table, th, td {\n",
       "    border: 1px solid black;\n",
       "    border-collapse: collapse;\n",
       "  }\n",
       "  th, td {\n",
       "    padding: 5px;\n",
       "  }\n",
       "  th {\n",
       "    text-align: left;\n",
       "  }\n",
       "</style><div class='table-result-container'><table class='table-result'><thead style='background-color: white'><tr><th>customer_id</th><th>product</th><th>total_quantity</th></tr></thead><tbody><tr><td>101</td><td>Pencil</td><td>4</td></tr><tr><td>102</td><td>Pencil</td><td>10</td></tr><tr><td>103</td><td>Pen</td><td>2</td></tr><tr><td>104</td><td>Pencil</td><td>8</td></tr><tr><td>105</td><td>Notebook</td><td>5</td></tr></tbody></table></div>"
      ]
     },
     "metadata": {
      "application/vnd.databricks.v1+output": {
       "addedWidgets": {},
       "aggData": [],
       "aggError": "",
       "aggOverflow": false,
       "aggSchema": [],
       "aggSeriesLimitReached": false,
       "aggType": "",
       "arguments": {},
       "columnCustomDisplayInfos": {},
       "data": [
        [
         101,
         "Pencil",
         4
        ],
        [
         102,
         "Pencil",
         10
        ],
        [
         103,
         "Pen",
         2
        ],
        [
         104,
         "Pencil",
         8
        ],
        [
         105,
         "Notebook",
         5
        ]
       ],
       "datasetInfos": [],
       "dbfsResultPath": null,
       "isJsonSchema": true,
       "metadata": {},
       "overflow": false,
       "plotOptions": {
        "customPlotOptions": {},
        "displayType": "table",
        "pivotAggregation": null,
        "pivotColumns": null,
        "xColumns": null,
        "yColumns": null
       },
       "removedWidgets": [],
       "schema": [
        {
         "metadata": "{}",
         "name": "customer_id",
         "type": "\"integer\""
        },
        {
         "metadata": "{}",
         "name": "product",
         "type": "\"string\""
        },
        {
         "metadata": "{}",
         "name": "total_quantity",
         "type": "\"long\""
        }
       ],
       "type": "table"
      }
     },
     "output_type": "display_data"
    }
   ],
   "source": [
    "# Identify the most purchased product by each customer.\n",
    "df1_total_purchased_by_customer = df1.groupBy(\"customer_id\", \"product\").agg(sum(\"quantity\").alias(\"total_quantity\"))\n",
    "df1_total_purchased_by_customer.display()\n",
    "\n",
    "\n",
    "from pyspark.sql.window import *\n",
    "\n",
    "df_window = Window.partitionBy(\"customer_id\").orderBy(desc(\"total_quantity\"))\n",
    "\n",
    "df1_most_purchased = df1_total_purchased_by_customer.withColumn(\"rank\", row_number().over(df_window))\n",
    "df_most_purchased_product = df1_most_purchased.filter(col(\"rank\") == 1).drop(\"rank\")\n",
    "\n",
    "df_most_purchased_product.display()\n"
   ]
  },
  {
   "cell_type": "code",
   "execution_count": 0,
   "metadata": {
    "application/vnd.databricks.v1+cell": {
     "cellMetadata": {
      "byteLimit": 2048000,
      "rowLimit": 10000
     },
     "inputWidgets": {},
     "nuid": "877eb306-4093-491f-a021-d640e16b4412",
     "showTitle": false,
     "tableResultSettingsMap": {},
     "title": ""
    }
   },
   "outputs": [],
   "source": [
    "#create a temp view \n",
    "df1.createOrReplaceTempView(\"temp_table\")"
   ]
  },
  {
   "cell_type": "code",
   "execution_count": 0,
   "metadata": {
    "application/vnd.databricks.v1+cell": {
     "cellMetadata": {
      "byteLimit": 2048000,
      "rowLimit": 10000
     },
     "inputWidgets": {},
     "nuid": "4bb4e901-e57f-4c36-9e8e-1f011e50b007",
     "showTitle": false,
     "tableResultSettingsMap": {},
     "title": ""
    }
   },
   "outputs": [
    {
     "output_type": "display_data",
     "data": {
      "text/html": [
       "<style scoped>\n",
       "  .table-result-container {\n",
       "    max-height: 300px;\n",
       "    overflow: auto;\n",
       "  }\n",
       "  table, th, td {\n",
       "    border: 1px solid black;\n",
       "    border-collapse: collapse;\n",
       "  }\n",
       "  th, td {\n",
       "    padding: 5px;\n",
       "  }\n",
       "  th {\n",
       "    text-align: left;\n",
       "  }\n",
       "</style><div class='table-result-container'><table class='table-result'><thead style='background-color: white'><tr><th>transaction_id</th><th>customer_id</th><th>product</th><th>quantity</th><th>price</th><th>date</th><th>region</th><th>total_sales</th></tr></thead><tbody><tr><td>1</td><td>101</td><td>Notebook</td><td>2</td><td>500</td><td>2024-01-15</td><td>North</td><td>1000</td></tr><tr><td>2</td><td>102</td><td>Pencil</td><td>10</td><td>20</td><td>2024-01-16</td><td>South</td><td>200</td></tr><tr><td>3</td><td>103</td><td>Notebook</td><td>1</td><td>500</td><td>2024-01-17</td><td>East</td><td>500</td></tr><tr><td>4</td><td>104</td><td>Pen</td><td>5</td><td>100</td><td>2024-01-18</td><td>West</td><td>500</td></tr><tr><td>5</td><td>105</td><td>Notebook</td><td>3</td><td>500</td><td>2024-01-19</td><td>North</td><td>1500</td></tr><tr><td>6</td><td>101</td><td>Pencil</td><td>4</td><td>20</td><td>2024-01-20</td><td>South</td><td>80</td></tr><tr><td>7</td><td>103</td><td>Pen</td><td>2</td><td>100</td><td>2024-01-21</td><td>East</td><td>200</td></tr><tr><td>8</td><td>102</td><td>Notebook</td><td>1</td><td>500</td><td>2024-01-22</td><td>West</td><td>500</td></tr><tr><td>9</td><td>104</td><td>Pencil</td><td>8</td><td>20</td><td>2024-01-23</td><td>North</td><td>160</td></tr><tr><td>10</td><td>105</td><td>Notebook</td><td>2</td><td>500</td><td>2024-01-24</td><td>South</td><td>1000</td></tr></tbody></table></div>"
      ]
     },
     "metadata": {
      "application/vnd.databricks.v1+output": {
       "addedWidgets": {},
       "aggData": [],
       "aggError": "",
       "aggOverflow": false,
       "aggSchema": [],
       "aggSeriesLimitReached": false,
       "aggType": "",
       "arguments": {},
       "columnCustomDisplayInfos": {},
       "data": [
        [
         1,
         101,
         "Notebook",
         2,
         500,
         "2024-01-15",
         "North",
         1000
        ],
        [
         2,
         102,
         "Pencil",
         10,
         20,
         "2024-01-16",
         "South",
         200
        ],
        [
         3,
         103,
         "Notebook",
         1,
         500,
         "2024-01-17",
         "East",
         500
        ],
        [
         4,
         104,
         "Pen",
         5,
         100,
         "2024-01-18",
         "West",
         500
        ],
        [
         5,
         105,
         "Notebook",
         3,
         500,
         "2024-01-19",
         "North",
         1500
        ],
        [
         6,
         101,
         "Pencil",
         4,
         20,
         "2024-01-20",
         "South",
         80
        ],
        [
         7,
         103,
         "Pen",
         2,
         100,
         "2024-01-21",
         "East",
         200
        ],
        [
         8,
         102,
         "Notebook",
         1,
         500,
         "2024-01-22",
         "West",
         500
        ],
        [
         9,
         104,
         "Pencil",
         8,
         20,
         "2024-01-23",
         "North",
         160
        ],
        [
         10,
         105,
         "Notebook",
         2,
         500,
         "2024-01-24",
         "South",
         1000
        ]
       ],
       "datasetInfos": [],
       "dbfsResultPath": null,
       "isJsonSchema": true,
       "metadata": {},
       "overflow": false,
       "plotOptions": {
        "customPlotOptions": {},
        "displayType": "table",
        "pivotAggregation": null,
        "pivotColumns": null,
        "xColumns": null,
        "yColumns": null
       },
       "removedWidgets": [],
       "schema": [
        {
         "metadata": "{}",
         "name": "transaction_id",
         "type": "\"integer\""
        },
        {
         "metadata": "{}",
         "name": "customer_id",
         "type": "\"integer\""
        },
        {
         "metadata": "{}",
         "name": "product",
         "type": "\"string\""
        },
        {
         "metadata": "{}",
         "name": "quantity",
         "type": "\"integer\""
        },
        {
         "metadata": "{}",
         "name": "price",
         "type": "\"integer\""
        },
        {
         "metadata": "{\"__detected_date_formats\":\"M/d/yyyy\"}",
         "name": "date",
         "type": "\"date\""
        },
        {
         "metadata": "{}",
         "name": "region",
         "type": "\"string\""
        },
        {
         "metadata": "{}",
         "name": "total_sales",
         "type": "\"integer\""
        }
       ],
       "type": "table"
      }
     },
     "output_type": "display_data"
    }
   ],
   "source": [
    "spark.sql(\"SELECT * FROM temp_table\").display()\n"
   ]
  },
  {
   "cell_type": "code",
   "execution_count": 0,
   "metadata": {
    "application/vnd.databricks.v1+cell": {
     "cellMetadata": {
      "byteLimit": 2048000,
      "rowLimit": 10000
     },
     "inputWidgets": {},
     "nuid": "8d1e1777-c33d-462f-8528-50eb048ff086",
     "showTitle": false,
     "tableResultSettingsMap": {},
     "title": ""
    }
   },
   "outputs": [
    {
     "output_type": "display_data",
     "data": {
      "text/html": [
       "<style scoped>\n",
       "  .table-result-container {\n",
       "    max-height: 300px;\n",
       "    overflow: auto;\n",
       "  }\n",
       "  table, th, td {\n",
       "    border: 1px solid black;\n",
       "    border-collapse: collapse;\n",
       "  }\n",
       "  th, td {\n",
       "    padding: 5px;\n",
       "  }\n",
       "  th {\n",
       "    text-align: left;\n",
       "  }\n",
       "</style><div class='table-result-container'><table class='table-result'><thead style='background-color: white'><tr><th>customer_id</th><th>product</th><th>total_quantity</th></tr></thead><tbody><tr><td>101</td><td>Pencil</td><td>4</td></tr><tr><td>102</td><td>Pencil</td><td>10</td></tr><tr><td>103</td><td>Pen</td><td>2</td></tr><tr><td>104</td><td>Pencil</td><td>8</td></tr><tr><td>105</td><td>Notebook</td><td>5</td></tr></tbody></table></div>"
      ]
     },
     "metadata": {
      "application/vnd.databricks.v1+output": {
       "addedWidgets": {},
       "aggData": [],
       "aggError": "",
       "aggOverflow": false,
       "aggSchema": [],
       "aggSeriesLimitReached": false,
       "aggType": "",
       "arguments": {},
       "columnCustomDisplayInfos": {},
       "data": [
        [
         101,
         "Pencil",
         4
        ],
        [
         102,
         "Pencil",
         10
        ],
        [
         103,
         "Pen",
         2
        ],
        [
         104,
         "Pencil",
         8
        ],
        [
         105,
         "Notebook",
         5
        ]
       ],
       "datasetInfos": [],
       "dbfsResultPath": null,
       "isJsonSchema": true,
       "metadata": {},
       "overflow": false,
       "plotOptions": {
        "customPlotOptions": {},
        "displayType": "table",
        "pivotAggregation": null,
        "pivotColumns": null,
        "xColumns": null,
        "yColumns": null
       },
       "removedWidgets": [],
       "schema": [
        {
         "metadata": "{}",
         "name": "customer_id",
         "type": "\"integer\""
        },
        {
         "metadata": "{}",
         "name": "product",
         "type": "\"string\""
        },
        {
         "metadata": "{}",
         "name": "total_quantity",
         "type": "\"long\""
        }
       ],
       "type": "table"
      }
     },
     "output_type": "display_data"
    }
   ],
   "source": [
    "df_most_purchased_product = spark.sql(\"\"\"\n",
    "    WITH customerItemCounts AS (\n",
    "        SELECT customer_id, product, SUM(quantity) AS total_quantity\n",
    "        FROM temp_table\n",
    "        GROUP BY customer_id, product\n",
    "    ),\n",
    "    ranked_item AS (\n",
    "        SELECT customer_id, product, total_quantity,\n",
    "               ROW_NUMBER() OVER (PARTITION BY customer_id ORDER BY total_quantity DESC) AS rank\n",
    "        FROM customerItemCounts\n",
    "    )\n",
    "    SELECT customer_id, product, total_quantity\n",
    "    FROM ranked_item\n",
    "    WHERE rank = 1\n",
    "\"\"\")\n",
    "\n",
    "# Display the result\n",
    "df_most_purchased_product.display()\n",
    "\n"
   ]
  },
  {
   "cell_type": "markdown",
   "metadata": {
    "application/vnd.databricks.v1+cell": {
     "cellMetadata": {
      "byteLimit": 2048000,
      "rowLimit": 10000
     },
     "inputWidgets": {},
     "nuid": "df63e50d-c979-4fc1-baac-573cc7d7fed1",
     "showTitle": false,
     "tableResultSettingsMap": {},
     "title": ""
    }
   },
   "source": [
    "Question 3 - Calculate the total revenue generated by each product."
   ]
  },
  {
   "cell_type": "code",
   "execution_count": 0,
   "metadata": {
    "application/vnd.databricks.v1+cell": {
     "cellMetadata": {
      "byteLimit": 2048000,
      "rowLimit": 10000
     },
     "inputWidgets": {},
     "nuid": "5e7e2d41-fd35-4a95-a064-f2fb37268364",
     "showTitle": false,
     "tableResultSettingsMap": {},
     "title": ""
    }
   },
   "outputs": [
    {
     "output_type": "display_data",
     "data": {
      "text/html": [
       "<style scoped>\n",
       "  .table-result-container {\n",
       "    max-height: 300px;\n",
       "    overflow: auto;\n",
       "  }\n",
       "  table, th, td {\n",
       "    border: 1px solid black;\n",
       "    border-collapse: collapse;\n",
       "  }\n",
       "  th, td {\n",
       "    padding: 5px;\n",
       "  }\n",
       "  th {\n",
       "    text-align: left;\n",
       "  }\n",
       "</style><div class='table-result-container'><table class='table-result'><thead style='background-color: white'><tr><th>product</th><th>total_sales_by_product</th></tr></thead><tbody><tr><td>Pen</td><td>700</td></tr><tr><td>Notebook</td><td>4500</td></tr><tr><td>Pencil</td><td>440</td></tr></tbody></table></div>"
      ]
     },
     "metadata": {
      "application/vnd.databricks.v1+output": {
       "addedWidgets": {},
       "aggData": [],
       "aggError": "",
       "aggOverflow": false,
       "aggSchema": [],
       "aggSeriesLimitReached": false,
       "aggType": "",
       "arguments": {},
       "columnCustomDisplayInfos": {},
       "data": [
        [
         "Pen",
         700
        ],
        [
         "Notebook",
         4500
        ],
        [
         "Pencil",
         440
        ]
       ],
       "datasetInfos": [],
       "dbfsResultPath": null,
       "isJsonSchema": true,
       "metadata": {},
       "overflow": false,
       "plotOptions": {
        "customPlotOptions": {},
        "displayType": "table",
        "pivotAggregation": null,
        "pivotColumns": null,
        "xColumns": null,
        "yColumns": null
       },
       "removedWidgets": [],
       "schema": [
        {
         "metadata": "{}",
         "name": "product",
         "type": "\"string\""
        },
        {
         "metadata": "{}",
         "name": "total_sales_by_product",
         "type": "\"long\""
        }
       ],
       "type": "table"
      }
     },
     "output_type": "display_data"
    }
   ],
   "source": [
    "#Calculate the total revenue generated by each product.\n",
    " \n",
    "df_total_rev_by_product = df1.groupBy(\"product\").agg(sum(\"total_sales\").alias(\"total_sales_by_product\"))\n",
    "df_total_rev_by_product.display()\n"
   ]
  },
  {
   "cell_type": "markdown",
   "metadata": {
    "application/vnd.databricks.v1+cell": {
     "cellMetadata": {},
     "inputWidgets": {},
     "nuid": "9e619cae-8f68-4822-8e2f-9d587e467de9",
     "showTitle": false,
     "tableResultSettingsMap": {},
     "title": ""
    }
   },
   "source": [
    "Question 4-  Find the region with the highest total sales."
   ]
  },
  {
   "cell_type": "code",
   "execution_count": 0,
   "metadata": {
    "application/vnd.databricks.v1+cell": {
     "cellMetadata": {
      "byteLimit": 2048000,
      "rowLimit": 10000
     },
     "inputWidgets": {},
     "nuid": "a834b608-99cc-41d2-9d42-aaf766caf2dd",
     "showTitle": false,
     "tableResultSettingsMap": {},
     "title": ""
    }
   },
   "outputs": [
    {
     "output_type": "display_data",
     "data": {
      "text/html": [
       "<style scoped>\n",
       "  .table-result-container {\n",
       "    max-height: 300px;\n",
       "    overflow: auto;\n",
       "  }\n",
       "  table, th, td {\n",
       "    border: 1px solid black;\n",
       "    border-collapse: collapse;\n",
       "  }\n",
       "  th, td {\n",
       "    padding: 5px;\n",
       "  }\n",
       "  th {\n",
       "    text-align: left;\n",
       "  }\n",
       "</style><div class='table-result-container'><table class='table-result'><thead style='background-color: white'><tr><th>region</th><th>total_sales_by_region</th></tr></thead><tbody><tr><td>South</td><td>1280</td></tr><tr><td>East</td><td>700</td></tr><tr><td>West</td><td>1000</td></tr><tr><td>North</td><td>2660</td></tr></tbody></table></div>"
      ]
     },
     "metadata": {
      "application/vnd.databricks.v1+output": {
       "addedWidgets": {},
       "aggData": [],
       "aggError": "",
       "aggOverflow": false,
       "aggSchema": [],
       "aggSeriesLimitReached": false,
       "aggType": "",
       "arguments": {},
       "columnCustomDisplayInfos": {},
       "data": [
        [
         "South",
         1280
        ],
        [
         "East",
         700
        ],
        [
         "West",
         1000
        ],
        [
         "North",
         2660
        ]
       ],
       "datasetInfos": [],
       "dbfsResultPath": null,
       "isJsonSchema": true,
       "metadata": {},
       "overflow": false,
       "plotOptions": {
        "customPlotOptions": {},
        "displayType": "table",
        "pivotAggregation": null,
        "pivotColumns": null,
        "xColumns": null,
        "yColumns": null
       },
       "removedWidgets": [],
       "schema": [
        {
         "metadata": "{}",
         "name": "region",
         "type": "\"string\""
        },
        {
         "metadata": "{}",
         "name": "total_sales_by_region",
         "type": "\"long\""
        }
       ],
       "type": "table"
      }
     },
     "output_type": "display_data"
    },
    {
     "output_type": "display_data",
     "data": {
      "text/html": [
       "<style scoped>\n",
       "  .table-result-container {\n",
       "    max-height: 300px;\n",
       "    overflow: auto;\n",
       "  }\n",
       "  table, th, td {\n",
       "    border: 1px solid black;\n",
       "    border-collapse: collapse;\n",
       "  }\n",
       "  th, td {\n",
       "    padding: 5px;\n",
       "  }\n",
       "  th {\n",
       "    text-align: left;\n",
       "  }\n",
       "</style><div class='table-result-container'><table class='table-result'><thead style='background-color: white'><tr><th>region</th><th>total_sales_by_region</th></tr></thead><tbody><tr><td>North</td><td>2660</td></tr></tbody></table></div>"
      ]
     },
     "metadata": {
      "application/vnd.databricks.v1+output": {
       "addedWidgets": {},
       "aggData": [],
       "aggError": "",
       "aggOverflow": false,
       "aggSchema": [],
       "aggSeriesLimitReached": false,
       "aggType": "",
       "arguments": {},
       "columnCustomDisplayInfos": {},
       "data": [
        [
         "North",
         2660
        ]
       ],
       "datasetInfos": [],
       "dbfsResultPath": null,
       "isJsonSchema": true,
       "metadata": {},
       "overflow": false,
       "plotOptions": {
        "customPlotOptions": {},
        "displayType": "table",
        "pivotAggregation": null,
        "pivotColumns": null,
        "xColumns": null,
        "yColumns": null
       },
       "removedWidgets": [],
       "schema": [
        {
         "metadata": "{}",
         "name": "region",
         "type": "\"string\""
        },
        {
         "metadata": "{}",
         "name": "total_sales_by_region",
         "type": "\"long\""
        }
       ],
       "type": "table"
      }
     },
     "output_type": "display_data"
    }
   ],
   "source": [
    "# Find the region with the highest total sales\n",
    "\n",
    "df_region_total_sales = df1.groupBy(\"region\").agg(sum(\"total_sales\").alias(\"total_sales_by_region\"))\n",
    "\n",
    "df_region_total_sales.display()\n",
    "\n",
    "# Region with the highest total sales\n",
    "df_region_with_highest_sale = df_region_total_sales.orderBy(desc(\"total_sales_by_region\")).limit(1)\n",
    "df_region_with_highest_sale.display()\n",
    "\n",
    "\n",
    "\n"
   ]
  },
  {
   "cell_type": "markdown",
   "metadata": {
    "application/vnd.databricks.v1+cell": {
     "cellMetadata": {},
     "inputWidgets": {},
     "nuid": "b87e2786-de58-495a-bf9c-1773770747a7",
     "showTitle": false,
     "tableResultSettingsMap": {},
     "title": ""
    }
   },
   "source": [
    "Question 5- Find customers who purchased more than 10 units of any product."
   ]
  },
  {
   "cell_type": "code",
   "execution_count": 0,
   "metadata": {
    "application/vnd.databricks.v1+cell": {
     "cellMetadata": {
      "byteLimit": 2048000,
      "rowLimit": 10000
     },
     "inputWidgets": {},
     "nuid": "aa0341de-2f14-4615-a1ad-d97717166f0c",
     "showTitle": false,
     "tableResultSettingsMap": {},
     "title": ""
    }
   },
   "outputs": [
    {
     "output_type": "display_data",
     "data": {
      "text/html": [
       "<style scoped>\n",
       "  .table-result-container {\n",
       "    max-height: 300px;\n",
       "    overflow: auto;\n",
       "  }\n",
       "  table, th, td {\n",
       "    border: 1px solid black;\n",
       "    border-collapse: collapse;\n",
       "  }\n",
       "  th, td {\n",
       "    padding: 5px;\n",
       "  }\n",
       "  th {\n",
       "    text-align: left;\n",
       "  }\n",
       "</style><div class='table-result-container'><table class='table-result'><thead style='background-color: white'><tr><th>customer_id</th><th>total_purchase</th></tr></thead><tbody><tr><td>102</td><td>11</td></tr><tr><td>104</td><td>13</td></tr></tbody></table></div>"
      ]
     },
     "metadata": {
      "application/vnd.databricks.v1+output": {
       "addedWidgets": {},
       "aggData": [],
       "aggError": "",
       "aggOverflow": false,
       "aggSchema": [],
       "aggSeriesLimitReached": false,
       "aggType": "",
       "arguments": {},
       "columnCustomDisplayInfos": {},
       "data": [
        [
         102,
         11
        ],
        [
         104,
         13
        ]
       ],
       "datasetInfos": [],
       "dbfsResultPath": null,
       "isJsonSchema": true,
       "metadata": {},
       "overflow": false,
       "plotOptions": {
        "customPlotOptions": {},
        "displayType": "table",
        "pivotAggregation": null,
        "pivotColumns": null,
        "xColumns": null,
        "yColumns": null
       },
       "removedWidgets": [],
       "schema": [
        {
         "metadata": "{}",
         "name": "customer_id",
         "type": "\"integer\""
        },
        {
         "metadata": "{}",
         "name": "total_purchase",
         "type": "\"long\""
        }
       ],
       "type": "table"
      }
     },
     "output_type": "display_data"
    }
   ],
   "source": [
    "#Find customers who purchased more than 10 units of any product.\n",
    "\n",
    "df_high_value = df1.groupBy(\"customer_id\").agg(sum(\"quantity\").alias (\"total_purchase\"))\n",
    "df_high_value_customers = df_high_value.filter(df_high_value.total_purchase>10)\n",
    "df_high_value_customers.display()"
   ]
  },
  {
   "cell_type": "markdown",
   "metadata": {
    "application/vnd.databricks.v1+cell": {
     "cellMetadata": {},
     "inputWidgets": {},
     "nuid": "7108acf6-5c8b-426c-8ae9-5e3b25e7df00",
     "showTitle": false,
     "tableResultSettingsMap": {},
     "title": ""
    }
   },
   "source": [
    "Question 6- Calculate average price per product across all regions."
   ]
  },
  {
   "cell_type": "code",
   "execution_count": 0,
   "metadata": {
    "application/vnd.databricks.v1+cell": {
     "cellMetadata": {
      "byteLimit": 2048000,
      "rowLimit": 10000
     },
     "inputWidgets": {},
     "nuid": "dd80a589-78c6-400e-9357-235b2eb4836b",
     "showTitle": false,
     "tableResultSettingsMap": {},
     "title": ""
    }
   },
   "outputs": [
    {
     "output_type": "display_data",
     "data": {
      "text/html": [
       "<style scoped>\n",
       "  .table-result-container {\n",
       "    max-height: 300px;\n",
       "    overflow: auto;\n",
       "  }\n",
       "  table, th, td {\n",
       "    border: 1px solid black;\n",
       "    border-collapse: collapse;\n",
       "  }\n",
       "  th, td {\n",
       "    padding: 5px;\n",
       "  }\n",
       "  th {\n",
       "    text-align: left;\n",
       "  }\n",
       "</style><div class='table-result-container'><table class='table-result'><thead style='background-color: white'><tr><th>product</th><th>Avg_Price</th></tr></thead><tbody><tr><td>Pen</td><td>100.0</td></tr><tr><td>Notebook</td><td>500.0</td></tr><tr><td>Pencil</td><td>20.0</td></tr></tbody></table></div>"
      ]
     },
     "metadata": {
      "application/vnd.databricks.v1+output": {
       "addedWidgets": {},
       "aggData": [],
       "aggError": "",
       "aggOverflow": false,
       "aggSchema": [],
       "aggSeriesLimitReached": false,
       "aggType": "",
       "arguments": {},
       "columnCustomDisplayInfos": {},
       "data": [
        [
         "Pen",
         100.0
        ],
        [
         "Notebook",
         500.0
        ],
        [
         "Pencil",
         20.0
        ]
       ],
       "datasetInfos": [],
       "dbfsResultPath": null,
       "isJsonSchema": true,
       "metadata": {},
       "overflow": false,
       "plotOptions": {
        "customPlotOptions": {},
        "displayType": "table",
        "pivotAggregation": null,
        "pivotColumns": null,
        "xColumns": null,
        "yColumns": null
       },
       "removedWidgets": [],
       "schema": [
        {
         "metadata": "{}",
         "name": "product",
         "type": "\"string\""
        },
        {
         "metadata": "{}",
         "name": "Avg_Price",
         "type": "\"double\""
        }
       ],
       "type": "table"
      }
     },
     "output_type": "display_data"
    }
   ],
   "source": [
    "#Calculate average price per product across all regions.\n",
    "df_avg_price= df1.groupBy(\"product\").agg(avg(\"price\").alias(\"Avg_Price\"))\n",
    "df_avg_price.display()"
   ]
  },
  {
   "cell_type": "markdown",
   "metadata": {
    "application/vnd.databricks.v1+cell": {
     "cellMetadata": {},
     "inputWidgets": {},
     "nuid": "65d836f9-b923-46c8-ae20-1cf1c51e886c",
     "showTitle": false,
     "tableResultSettingsMap": {},
     "title": ""
    }
   },
   "source": [
    "Question 7- Rank the products by total sales in descending order."
   ]
  },
  {
   "cell_type": "code",
   "execution_count": 0,
   "metadata": {
    "application/vnd.databricks.v1+cell": {
     "cellMetadata": {
      "byteLimit": 2048000,
      "rowLimit": 10000
     },
     "inputWidgets": {},
     "nuid": "df436f82-bc77-415b-8985-97e0ddb1ed58",
     "showTitle": false,
     "tableResultSettingsMap": {},
     "title": ""
    }
   },
   "outputs": [
    {
     "output_type": "display_data",
     "data": {
      "text/html": [
       "<style scoped>\n",
       "  .table-result-container {\n",
       "    max-height: 300px;\n",
       "    overflow: auto;\n",
       "  }\n",
       "  table, th, td {\n",
       "    border: 1px solid black;\n",
       "    border-collapse: collapse;\n",
       "  }\n",
       "  th, td {\n",
       "    padding: 5px;\n",
       "  }\n",
       "  th {\n",
       "    text-align: left;\n",
       "  }\n",
       "</style><div class='table-result-container'><table class='table-result'><thead style='background-color: white'><tr><th>product</th><th>total_sales</th><th>rank</th></tr></thead><tbody><tr><td>Notebook</td><td>4500</td><td>1</td></tr><tr><td>Pen</td><td>700</td><td>2</td></tr><tr><td>Pencil</td><td>440</td><td>3</td></tr></tbody></table></div>"
      ]
     },
     "metadata": {
      "application/vnd.databricks.v1+output": {
       "addedWidgets": {},
       "aggData": [],
       "aggError": "",
       "aggOverflow": false,
       "aggSchema": [],
       "aggSeriesLimitReached": false,
       "aggType": "",
       "arguments": {},
       "columnCustomDisplayInfos": {},
       "data": [
        [
         "Notebook",
         4500,
         1
        ],
        [
         "Pen",
         700,
         2
        ],
        [
         "Pencil",
         440,
         3
        ]
       ],
       "datasetInfos": [],
       "dbfsResultPath": null,
       "isJsonSchema": true,
       "metadata": {},
       "overflow": false,
       "plotOptions": {
        "customPlotOptions": {},
        "displayType": "table",
        "pivotAggregation": null,
        "pivotColumns": null,
        "xColumns": null,
        "yColumns": null
       },
       "removedWidgets": [],
       "schema": [
        {
         "metadata": "{}",
         "name": "product",
         "type": "\"string\""
        },
        {
         "metadata": "{}",
         "name": "total_sales",
         "type": "\"long\""
        },
        {
         "metadata": "{}",
         "name": "rank",
         "type": "\"integer\""
        }
       ],
       "type": "table"
      }
     },
     "output_type": "display_data"
    }
   ],
   "source": [
    "\n",
    "# Ranking the products by total sales in descending order \n",
    "df_total_sales = df1.groupBy(\"product\").agg(sum(\"total_sales\").alias(\"total_sales\"))\n",
    "\n",
    "window_spec = Window.orderBy(desc(\"total_sales\"))\n",
    "\n",
    "df_ranked_products = df_total_sales.withColumn(\"rank\", rank().over(window_spec))\n",
    "\n",
    "df_ranked_products.display()\n"
   ]
  },
  {
   "cell_type": "markdown",
   "metadata": {
    "application/vnd.databricks.v1+cell": {
     "cellMetadata": {
      "byteLimit": 2048000,
      "rowLimit": 10000
     },
     "inputWidgets": {},
     "nuid": "2ff077cd-b0a0-40cc-b709-bf00803dd524",
     "showTitle": false,
     "tableResultSettingsMap": {},
     "title": ""
    }
   },
   "source": [
    "Question 8- Count the number of distinct customers in each region."
   ]
  },
  {
   "cell_type": "code",
   "execution_count": 0,
   "metadata": {
    "application/vnd.databricks.v1+cell": {
     "cellMetadata": {
      "byteLimit": 2048000,
      "rowLimit": 10000
     },
     "inputWidgets": {},
     "nuid": "599dd16b-e34e-4dd6-a49e-805b10388907",
     "showTitle": false,
     "tableResultSettingsMap": {},
     "title": ""
    }
   },
   "outputs": [
    {
     "output_type": "display_data",
     "data": {
      "text/html": [
       "<style scoped>\n",
       "  .table-result-container {\n",
       "    max-height: 300px;\n",
       "    overflow: auto;\n",
       "  }\n",
       "  table, th, td {\n",
       "    border: 1px solid black;\n",
       "    border-collapse: collapse;\n",
       "  }\n",
       "  th, td {\n",
       "    padding: 5px;\n",
       "  }\n",
       "  th {\n",
       "    text-align: left;\n",
       "  }\n",
       "</style><div class='table-result-container'><table class='table-result'><thead style='background-color: white'><tr><th>region</th><th>distinct_customers</th></tr></thead><tbody><tr><td>South</td><td>3</td></tr><tr><td>East</td><td>1</td></tr><tr><td>West</td><td>2</td></tr><tr><td>North</td><td>3</td></tr></tbody></table></div>"
      ]
     },
     "metadata": {
      "application/vnd.databricks.v1+output": {
       "addedWidgets": {},
       "aggData": [],
       "aggError": "",
       "aggOverflow": false,
       "aggSchema": [],
       "aggSeriesLimitReached": false,
       "aggType": "",
       "arguments": {},
       "columnCustomDisplayInfos": {},
       "data": [
        [
         "South",
         3
        ],
        [
         "East",
         1
        ],
        [
         "West",
         2
        ],
        [
         "North",
         3
        ]
       ],
       "datasetInfos": [],
       "dbfsResultPath": null,
       "isJsonSchema": true,
       "metadata": {},
       "overflow": false,
       "plotOptions": {
        "customPlotOptions": {},
        "displayType": "table",
        "pivotAggregation": null,
        "pivotColumns": null,
        "xColumns": null,
        "yColumns": null
       },
       "removedWidgets": [],
       "schema": [
        {
         "metadata": "{}",
         "name": "region",
         "type": "\"string\""
        },
        {
         "metadata": "{}",
         "name": "distinct_customers",
         "type": "\"long\""
        }
       ],
       "type": "table"
      }
     },
     "output_type": "display_data"
    }
   ],
   "source": [
    "#Count the number of distinct customers in each region.\n",
    "df_distinct_customer= df1.groupBy(\"region\").agg(countDistinct(\"customer_id\").alias(\"distinct_customers\"))\n",
    "df_distinct_customer.display()"
   ]
  },
  {
   "cell_type": "markdown",
   "metadata": {
    "application/vnd.databricks.v1+cell": {
     "cellMetadata": {},
     "inputWidgets": {},
     "nuid": "873664bc-923b-42f0-9324-0b150e732c2d",
     "showTitle": false,
     "tableResultSettingsMap": {},
     "title": ""
    }
   },
   "source": [
    "Question 9- Determine which region has the highest average quantity sold per transaction."
   ]
  },
  {
   "cell_type": "code",
   "execution_count": 0,
   "metadata": {
    "application/vnd.databricks.v1+cell": {
     "cellMetadata": {
      "byteLimit": 2048000,
      "rowLimit": 10000
     },
     "inputWidgets": {},
     "nuid": "87f7694b-a63f-4891-865a-1467ecc9beb8",
     "showTitle": false,
     "tableResultSettingsMap": {},
     "title": ""
    }
   },
   "outputs": [
    {
     "output_type": "display_data",
     "data": {
      "text/html": [
       "<style scoped>\n",
       "  .table-result-container {\n",
       "    max-height: 300px;\n",
       "    overflow: auto;\n",
       "  }\n",
       "  table, th, td {\n",
       "    border: 1px solid black;\n",
       "    border-collapse: collapse;\n",
       "  }\n",
       "  th, td {\n",
       "    padding: 5px;\n",
       "  }\n",
       "  th {\n",
       "    text-align: left;\n",
       "  }\n",
       "</style><div class='table-result-container'><table class='table-result'><thead style='background-color: white'><tr><th>region</th><th>avg_quantity_per_transaction</th></tr></thead><tbody><tr><td>South</td><td>5.333333333333333</td></tr><tr><td>East</td><td>1.5</td></tr><tr><td>West</td><td>3.0</td></tr><tr><td>North</td><td>4.333333333333333</td></tr></tbody></table></div>"
      ]
     },
     "metadata": {
      "application/vnd.databricks.v1+output": {
       "addedWidgets": {},
       "aggData": [],
       "aggError": "",
       "aggOverflow": false,
       "aggSchema": [],
       "aggSeriesLimitReached": false,
       "aggType": "",
       "arguments": {},
       "columnCustomDisplayInfos": {},
       "data": [
        [
         "South",
         5.333333333333333
        ],
        [
         "East",
         1.5
        ],
        [
         "West",
         3.0
        ],
        [
         "North",
         4.333333333333333
        ]
       ],
       "datasetInfos": [],
       "dbfsResultPath": null,
       "isJsonSchema": true,
       "metadata": {},
       "overflow": false,
       "plotOptions": {
        "customPlotOptions": {},
        "displayType": "table",
        "pivotAggregation": null,
        "pivotColumns": null,
        "xColumns": null,
        "yColumns": null
       },
       "removedWidgets": [],
       "schema": [
        {
         "metadata": "{}",
         "name": "region",
         "type": "\"string\""
        },
        {
         "metadata": "{}",
         "name": "avg_quantity_per_transaction",
         "type": "\"double\""
        }
       ],
       "type": "table"
      }
     },
     "output_type": "display_data"
    },
    {
     "output_type": "display_data",
     "data": {
      "text/html": [
       "<style scoped>\n",
       "  .table-result-container {\n",
       "    max-height: 300px;\n",
       "    overflow: auto;\n",
       "  }\n",
       "  table, th, td {\n",
       "    border: 1px solid black;\n",
       "    border-collapse: collapse;\n",
       "  }\n",
       "  th, td {\n",
       "    padding: 5px;\n",
       "  }\n",
       "  th {\n",
       "    text-align: left;\n",
       "  }\n",
       "</style><div class='table-result-container'><table class='table-result'><thead style='background-color: white'><tr><th>region</th><th>avg_quantity_per_transaction</th></tr></thead><tbody><tr><td>South</td><td>5.333333333333333</td></tr></tbody></table></div>"
      ]
     },
     "metadata": {
      "application/vnd.databricks.v1+output": {
       "addedWidgets": {},
       "aggData": [],
       "aggError": "",
       "aggOverflow": false,
       "aggSchema": [],
       "aggSeriesLimitReached": false,
       "aggType": "",
       "arguments": {},
       "columnCustomDisplayInfos": {},
       "data": [
        [
         "South",
         5.333333333333333
        ]
       ],
       "datasetInfos": [],
       "dbfsResultPath": null,
       "isJsonSchema": true,
       "metadata": {},
       "overflow": false,
       "plotOptions": {
        "customPlotOptions": {},
        "displayType": "table",
        "pivotAggregation": null,
        "pivotColumns": null,
        "xColumns": null,
        "yColumns": null
       },
       "removedWidgets": [],
       "schema": [
        {
         "metadata": "{}",
         "name": "region",
         "type": "\"string\""
        },
        {
         "metadata": "{}",
         "name": "avg_quantity_per_transaction",
         "type": "\"double\""
        }
       ],
       "type": "table"
      }
     },
     "output_type": "display_data"
    }
   ],
   "source": [
    "#Determine which region has the highest average quantity sold per transaction.\n",
    "# Average quantity sold by region \n",
    "df_highest_average = df1.groupBy(\"region\").agg(avg(\"quantity\").alias(\"avg_quantity_per_transaction\"))\n",
    "df_highest_average.display()\n",
    "\n",
    "# Region with highest average \n",
    "df_highest_average_region = df_highest_average.orderBy (desc(\"avg_quantity_per_transaction\")). limit(1)\n",
    "df_highest_average_region.display()\n",
    "\n",
    "\n"
   ]
  },
  {
   "cell_type": "markdown",
   "metadata": {
    "application/vnd.databricks.v1+cell": {
     "cellMetadata": {},
     "inputWidgets": {},
     "nuid": "e54d833d-0bc1-4d19-8210-23be053ed927",
     "showTitle": false,
     "tableResultSettingsMap": {},
     "title": ""
    }
   },
   "source": [
    "Question 10 - Find transactions that contributed to the top 10% of total revenue.\n",
    " "
   ]
  },
  {
   "cell_type": "code",
   "execution_count": 0,
   "metadata": {
    "application/vnd.databricks.v1+cell": {
     "cellMetadata": {
      "byteLimit": 2048000,
      "rowLimit": 10000
     },
     "inputWidgets": {},
     "nuid": "4f28fa10-69c9-4e66-8e1d-a8b5dd72a147",
     "showTitle": false,
     "tableResultSettingsMap": {},
     "title": ""
    }
   },
   "outputs": [
    {
     "output_type": "display_data",
     "data": {
      "text/html": [
       "<style scoped>\n",
       "  .table-result-container {\n",
       "    max-height: 300px;\n",
       "    overflow: auto;\n",
       "  }\n",
       "  table, th, td {\n",
       "    border: 1px solid black;\n",
       "    border-collapse: collapse;\n",
       "  }\n",
       "  th, td {\n",
       "    padding: 5px;\n",
       "  }\n",
       "  th {\n",
       "    text-align: left;\n",
       "  }\n",
       "</style><div class='table-result-container'><table class='table-result'><thead style='background-color: white'><tr><th>transaction_id</th><th>customer_id</th><th>product</th><th>quantity</th><th>price</th><th>date</th><th>region</th><th>total_sales</th></tr></thead><tbody><tr><td>1</td><td>101</td><td>Notebook</td><td>2</td><td>500</td><td>2024-01-15</td><td>North</td><td>1000</td></tr><tr><td>5</td><td>105</td><td>Notebook</td><td>3</td><td>500</td><td>2024-01-19</td><td>North</td><td>1500</td></tr><tr><td>10</td><td>105</td><td>Notebook</td><td>2</td><td>500</td><td>2024-01-24</td><td>South</td><td>1000</td></tr></tbody></table></div>"
      ]
     },
     "metadata": {
      "application/vnd.databricks.v1+output": {
       "addedWidgets": {},
       "aggData": [],
       "aggError": "",
       "aggOverflow": false,
       "aggSchema": [],
       "aggSeriesLimitReached": false,
       "aggType": "",
       "arguments": {},
       "columnCustomDisplayInfos": {},
       "data": [
        [
         1,
         101,
         "Notebook",
         2,
         500,
         "2024-01-15",
         "North",
         1000
        ],
        [
         5,
         105,
         "Notebook",
         3,
         500,
         "2024-01-19",
         "North",
         1500
        ],
        [
         10,
         105,
         "Notebook",
         2,
         500,
         "2024-01-24",
         "South",
         1000
        ]
       ],
       "datasetInfos": [],
       "dbfsResultPath": null,
       "isJsonSchema": true,
       "metadata": {},
       "overflow": false,
       "plotOptions": {
        "customPlotOptions": {},
        "displayType": "table",
        "pivotAggregation": null,
        "pivotColumns": null,
        "xColumns": null,
        "yColumns": null
       },
       "removedWidgets": [],
       "schema": [
        {
         "metadata": "{}",
         "name": "transaction_id",
         "type": "\"integer\""
        },
        {
         "metadata": "{}",
         "name": "customer_id",
         "type": "\"integer\""
        },
        {
         "metadata": "{}",
         "name": "product",
         "type": "\"string\""
        },
        {
         "metadata": "{}",
         "name": "quantity",
         "type": "\"integer\""
        },
        {
         "metadata": "{}",
         "name": "price",
         "type": "\"integer\""
        },
        {
         "metadata": "{\"__detected_date_formats\":\"M/d/yyyy\"}",
         "name": "date",
         "type": "\"date\""
        },
        {
         "metadata": "{}",
         "name": "region",
         "type": "\"string\""
        },
        {
         "metadata": "{}",
         "name": "total_sales",
         "type": "\"integer\""
        }
       ],
       "type": "table"
      }
     },
     "output_type": "display_data"
    }
   ],
   "source": [
    "\n",
    "# Compute the 90th percentile (top 10% threshold) of total_sales\n",
    "threshold = df1.approxQuantile(\"total_sales\", [0.9], 0.01)[0]\n",
    "\n",
    "# Filter transactions contributing to the top 10% of total_sales\n",
    "top_10_percent_transactions = df1.filter(col(\"total_sales\") >= threshold)\n",
    "\n",
    "# Display the result\n",
    "top_10_percent_transactions.display()\n"
   ]
  }
 ],
 "metadata": {
  "application/vnd.databricks.v1+notebook": {
   "dashboards": [],
   "environmentMetadata": null,
   "language": "python",
   "notebookMetadata": {
    "pythonIndentUnit": 4
   },
   "notebookName": "Sales",
   "widgets": {}
  }
 },
 "nbformat": 4,
 "nbformat_minor": 0
}
