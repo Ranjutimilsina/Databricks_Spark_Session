{
 "cells": [
  {
   "cell_type": "code",
   "execution_count": 0,
   "metadata": {
    "application/vnd.databricks.v1+cell": {
     "cellMetadata": {
      "byteLimit": 2048000,
      "rowLimit": 10000
     },
     "inputWidgets": {},
     "nuid": "cacce579-5835-4bd8-903b-1a3f1aff6b43",
     "showTitle": false,
     "tableResultSettingsMap": {},
     "title": ""
    }
   },
   "outputs": [],
   "source": [
    "from pyspark.sql import SparkSession \n",
    "from pyspark.sql.functions import *\n",
    "from pyspark.sql.functions import *\n",
    "\n",
    "\n",
    "\n",
    "spark = SparkSession.builder.appName(\"Interview Questions\").getOrCreate()"
   ]
  },
  {
   "cell_type": "code",
   "execution_count": 0,
   "metadata": {
    "application/vnd.databricks.v1+cell": {
     "cellMetadata": {
      "byteLimit": 2048000,
      "implicitDf": true,
      "rowLimit": 10000
     },
     "inputWidgets": {},
     "nuid": "deb6f19d-7f5c-4092-b9a8-ff7ecdc93fd0",
     "showTitle": false,
     "tableResultSettingsMap": {},
     "title": ""
    }
   },
   "outputs": [
    {
     "output_type": "display_data",
     "data": {
      "text/html": [
       "<style scoped>\n",
       "  .table-result-container {\n",
       "    max-height: 300px;\n",
       "    overflow: auto;\n",
       "  }\n",
       "  table, th, td {\n",
       "    border: 1px solid black;\n",
       "    border-collapse: collapse;\n",
       "  }\n",
       "  th, td {\n",
       "    padding: 5px;\n",
       "  }\n",
       "  th {\n",
       "    text-align: left;\n",
       "  }\n",
       "</style><div class='table-result-container'><table class='table-result'><thead style='background-color: white'><tr></tr></thead><tbody></tbody></table></div>"
      ]
     },
     "metadata": {
      "application/vnd.databricks.v1+output": {
       "addedWidgets": {},
       "aggData": [],
       "aggError": "",
       "aggOverflow": false,
       "aggSchema": [],
       "aggSeriesLimitReached": false,
       "aggType": "",
       "arguments": {},
       "columnCustomDisplayInfos": {},
       "data": [],
       "datasetInfos": [],
       "dbfsResultPath": null,
       "isJsonSchema": true,
       "metadata": {},
       "overflow": false,
       "plotOptions": {
        "customPlotOptions": {},
        "displayType": "table",
        "pivotAggregation": null,
        "pivotColumns": null,
        "xColumns": null,
        "yColumns": null
       },
       "removedWidgets": [],
       "schema": [],
       "type": "table"
      }
     },
     "output_type": "display_data"
    }
   ],
   "source": [
    "%sql\n",
    "CREATE TABLE swiggy_orders (\n",
    "    orderid INT,\n",
    "    custid INT,\n",
    "    city STRING,\n",
    "    del_partner STRING,\n",
    "    order_time TIMESTAMP,\n",
    "    deliver_time TIMESTAMP,\n",
    "    predicted_time INT\n",
    ")\n",
    "USING DELTA;\n"
   ]
  },
  {
   "cell_type": "code",
   "execution_count": 0,
   "metadata": {
    "application/vnd.databricks.v1+cell": {
     "cellMetadata": {
      "byteLimit": 2048000,
      "implicitDf": true,
      "rowLimit": 10000
     },
     "inputWidgets": {},
     "nuid": "a637e753-8c1d-4ba7-b0c7-852a6a0d2471",
     "showTitle": false,
     "tableResultSettingsMap": {},
     "title": ""
    }
   },
   "outputs": [
    {
     "output_type": "display_data",
     "data": {
      "text/html": [
       "<style scoped>\n",
       "  .table-result-container {\n",
       "    max-height: 300px;\n",
       "    overflow: auto;\n",
       "  }\n",
       "  table, th, td {\n",
       "    border: 1px solid black;\n",
       "    border-collapse: collapse;\n",
       "  }\n",
       "  th, td {\n",
       "    padding: 5px;\n",
       "  }\n",
       "  th {\n",
       "    text-align: left;\n",
       "  }\n",
       "</style><div class='table-result-container'><table class='table-result'><thead style='background-color: white'><tr><th>num_affected_rows</th><th>num_inserted_rows</th></tr></thead><tbody><tr><td>12</td><td>12</td></tr></tbody></table></div>"
      ]
     },
     "metadata": {
      "application/vnd.databricks.v1+output": {
       "addedWidgets": {},
       "aggData": [],
       "aggError": "",
       "aggOverflow": false,
       "aggSchema": [],
       "aggSeriesLimitReached": false,
       "aggType": "",
       "arguments": {},
       "columnCustomDisplayInfos": {},
       "data": [
        [
         12,
         12
        ]
       ],
       "datasetInfos": [],
       "dbfsResultPath": null,
       "isJsonSchema": true,
       "metadata": {},
       "overflow": false,
       "plotOptions": {
        "customPlotOptions": {},
        "displayType": "table",
        "pivotAggregation": null,
        "pivotColumns": null,
        "xColumns": null,
        "yColumns": null
       },
       "removedWidgets": [],
       "schema": [
        {
         "metadata": "{}",
         "name": "num_affected_rows",
         "type": "\"long\""
        },
        {
         "metadata": "{}",
         "name": "num_inserted_rows",
         "type": "\"long\""
        }
       ],
       "type": "table"
      }
     },
     "output_type": "display_data"
    }
   ],
   "source": [
    "%sql\n",
    "INSERT INTO swiggy_orders (orderid, custid, city, del_partner, order_time, deliver_time, predicted_time)\n",
    "VALUES\n",
    "(1, 101, 'Mumbai', 'Partner A', '2024-12-18 10:00:00', '2024-12-18 11:30:00', 60),\n",
    "(2, 102, 'Delhi', 'Partner A', '2024-12-18 09:00:00', '2024-12-18 10:00:00', 45),\n",
    "(3, 103, 'Pune', 'Partner A', '2024-12-18 15:00:00', '2024-12-18 15:30:00', 30),\n",
    "(4, 104, 'Mumbai', 'Partner A', '2024-12-18 14:00:00', '2024-12-18 14:50:00', 45),\n",
    "(5, 105, 'Bangalore', 'Partner B', '2024-12-18 08:00:00', '2024-12-18 08:29:00', 30),\n",
    "(6, 106, 'Hyderabad', 'Partner B', '2024-12-18 13:00:00', '2024-12-18 14:00:00', 70),\n",
    "(7, 107, 'Kolkata', 'Partner B', '2024-12-18 10:00:00', '2024-12-18 10:40:00', 45),\n",
    "(8, 108, 'Delhi', 'Partner B', '2024-12-18 18:00:00', '2024-12-18 18:30:00', 40),\n",
    "(9, 109, 'Chennai', 'Partner C', '2024-12-18 07:00:00', '2024-12-18 07:40:00', 30),\n",
    "(10, 110, 'Mumbai', 'Partner C', '2024-12-18 12:00:00', '2024-12-18 13:00:00', 50),\n",
    "(11, 111, 'Delhi', 'Partner C', '2024-12-18 09:00:00', '2024-12-18 09:35:00', 30),\n",
    "(12, 112, 'Hyderabad', 'Partner C', '2024-12-18 16:00:00', '2024-12-18 16:45:00', 30);\n"
   ]
  },
  {
   "cell_type": "code",
   "execution_count": 0,
   "metadata": {
    "application/vnd.databricks.v1+cell": {
     "cellMetadata": {
      "byteLimit": 2048000,
      "implicitDf": true,
      "rowLimit": 10000
     },
     "inputWidgets": {},
     "nuid": "be4e4319-4f21-4a1c-bb0c-3372c8c67c80",
     "showTitle": false,
     "tableResultSettingsMap": {},
     "title": ""
    }
   },
   "outputs": [
    {
     "output_type": "display_data",
     "data": {
      "text/html": [
       "<style scoped>\n",
       "  .table-result-container {\n",
       "    max-height: 300px;\n",
       "    overflow: auto;\n",
       "  }\n",
       "  table, th, td {\n",
       "    border: 1px solid black;\n",
       "    border-collapse: collapse;\n",
       "  }\n",
       "  th, td {\n",
       "    padding: 5px;\n",
       "  }\n",
       "  th {\n",
       "    text-align: left;\n",
       "  }\n",
       "</style><div class='table-result-container'><table class='table-result'><thead style='background-color: white'><tr><th>database</th><th>tableName</th><th>isTemporary</th></tr></thead><tbody><tr><td>default</td><td>swiggy_orders</td><td>false</td></tr></tbody></table></div>"
      ]
     },
     "metadata": {
      "application/vnd.databricks.v1+output": {
       "addedWidgets": {},
       "aggData": [],
       "aggError": "",
       "aggOverflow": false,
       "aggSchema": [],
       "aggSeriesLimitReached": false,
       "aggType": "",
       "arguments": {},
       "columnCustomDisplayInfos": {},
       "data": [
        [
         "default",
         "swiggy_orders",
         false
        ]
       ],
       "datasetInfos": [],
       "dbfsResultPath": null,
       "isJsonSchema": true,
       "metadata": {},
       "overflow": false,
       "plotOptions": {
        "customPlotOptions": {},
        "displayType": "table",
        "pivotAggregation": null,
        "pivotColumns": null,
        "xColumns": null,
        "yColumns": null
       },
       "removedWidgets": [],
       "schema": [
        {
         "metadata": "{}",
         "name": "database",
         "type": "\"string\""
        },
        {
         "metadata": "{}",
         "name": "tableName",
         "type": "\"string\""
        },
        {
         "metadata": "{}",
         "name": "isTemporary",
         "type": "\"boolean\""
        }
       ],
       "type": "table"
      }
     },
     "output_type": "display_data"
    }
   ],
   "source": [
    "%sql\n",
    "SHOW TABLES;\n"
   ]
  },
  {
   "cell_type": "code",
   "execution_count": 0,
   "metadata": {
    "application/vnd.databricks.v1+cell": {
     "cellMetadata": {
      "byteLimit": 2048000,
      "implicitDf": true,
      "rowLimit": 10000
     },
     "inputWidgets": {},
     "nuid": "201fcfbe-6819-475a-b83c-a8b38bcd8cd3",
     "showTitle": false,
     "tableResultSettingsMap": {},
     "title": ""
    }
   },
   "outputs": [
    {
     "output_type": "display_data",
     "data": {
      "text/html": [
       "<style scoped>\n",
       "  .table-result-container {\n",
       "    max-height: 300px;\n",
       "    overflow: auto;\n",
       "  }\n",
       "  table, th, td {\n",
       "    border: 1px solid black;\n",
       "    border-collapse: collapse;\n",
       "  }\n",
       "  th, td {\n",
       "    padding: 5px;\n",
       "  }\n",
       "  th {\n",
       "    text-align: left;\n",
       "  }\n",
       "</style><div class='table-result-container'><table class='table-result'><thead style='background-color: white'><tr></tr></thead><tbody></tbody></table></div>"
      ]
     },
     "metadata": {
      "application/vnd.databricks.v1+output": {
       "addedWidgets": {},
       "aggData": [],
       "aggError": "",
       "aggOverflow": false,
       "aggSchema": [],
       "aggSeriesLimitReached": false,
       "aggType": "",
       "arguments": {},
       "columnCustomDisplayInfos": {},
       "data": [],
       "datasetInfos": [],
       "dbfsResultPath": null,
       "isJsonSchema": true,
       "metadata": {},
       "overflow": false,
       "plotOptions": {
        "customPlotOptions": {},
        "displayType": "table",
        "pivotAggregation": null,
        "pivotColumns": null,
        "xColumns": null,
        "yColumns": null
       },
       "removedWidgets": [],
       "schema": [],
       "type": "table"
      }
     },
     "output_type": "display_data"
    }
   ],
   "source": [
    "%sql\n",
    "CREATE TABLE sale_data (\n",
    "    order_date DATE,\n",
    "    customer_id INT,\n",
    "    store_id INT,\n",
    "    product_id INT,\n",
    "    sale INT,\n",
    "    order_value INT\n",
    ")\n",
    "USING DELTA;\n"
   ]
  },
  {
   "cell_type": "code",
   "execution_count": 0,
   "metadata": {
    "application/vnd.databricks.v1+cell": {
     "cellMetadata": {
      "byteLimit": 2048000,
      "implicitDf": true,
      "rowLimit": 10000
     },
     "inputWidgets": {},
     "nuid": "29215183-568c-4974-a1ae-664134234d71",
     "showTitle": false,
     "tableResultSettingsMap": {},
     "title": ""
    }
   },
   "outputs": [
    {
     "output_type": "display_data",
     "data": {
      "text/html": [
       "<style scoped>\n",
       "  .table-result-container {\n",
       "    max-height: 300px;\n",
       "    overflow: auto;\n",
       "  }\n",
       "  table, th, td {\n",
       "    border: 1px solid black;\n",
       "    border-collapse: collapse;\n",
       "  }\n",
       "  th, td {\n",
       "    padding: 5px;\n",
       "  }\n",
       "  th {\n",
       "    text-align: left;\n",
       "  }\n",
       "</style><div class='table-result-container'><table class='table-result'><thead style='background-color: white'><tr><th>num_affected_rows</th><th>num_inserted_rows</th></tr></thead><tbody><tr><td>15</td><td>15</td></tr></tbody></table></div>"
      ]
     },
     "metadata": {
      "application/vnd.databricks.v1+output": {
       "addedWidgets": {},
       "aggData": [],
       "aggError": "",
       "aggOverflow": false,
       "aggSchema": [],
       "aggSeriesLimitReached": false,
       "aggType": "",
       "arguments": {},
       "columnCustomDisplayInfos": {},
       "data": [
        [
         15,
         15
        ]
       ],
       "datasetInfos": [],
       "dbfsResultPath": null,
       "isJsonSchema": true,
       "metadata": {},
       "overflow": false,
       "plotOptions": {
        "customPlotOptions": {},
        "displayType": "table",
        "pivotAggregation": null,
        "pivotColumns": null,
        "xColumns": null,
        "yColumns": null
       },
       "removedWidgets": [],
       "schema": [
        {
         "metadata": "{}",
         "name": "num_affected_rows",
         "type": "\"long\""
        },
        {
         "metadata": "{}",
         "name": "num_inserted_rows",
         "type": "\"long\""
        }
       ],
       "type": "table"
      }
     },
     "output_type": "display_data"
    }
   ],
   "source": [
    "%sql\n",
    "INSERT INTO sale_data (order_date, customer_id, store_id, product_id, sale, order_value)\n",
    "VALUES\n",
    "('2024-12-01', 109, 1, 3, 2, 700),\n",
    "('2024-12-02', 110, 2, 2, 1, 300),\n",
    "('2024-12-03', 111, 1, 5, 3, 900),\n",
    "('2024-12-04', 112, 3, 1, 2, 500),\n",
    "('2024-12-05', 113, 3, 4, 4, 1200),\n",
    "('2024-12-05', 114, 3, 4, 2, 400),\n",
    "('2024-12-05', 115, 3, 4, 1, 300),\n",
    "('2024-12-01', 101, 1, 4, 2, 500),\n",
    "('2024-12-01', 102, 1, 4, 1, 300),\n",
    "('2024-12-02', 103, 2, 4, 3, 900),\n",
    "('2024-12-02', 104, 2, 4, 1, 400),\n",
    "('2024-12-03', 105, 1, 4, 2, 600),\n",
    "('2024-12-03', 106, 1, 4, 3, 800),\n",
    "('2024-12-04', 107, 3, 4, 1, 200),\n",
    "('2024-12-04', 108, 3, 4, 2, 500);\n"
   ]
  },
  {
   "cell_type": "code",
   "execution_count": 0,
   "metadata": {
    "application/vnd.databricks.v1+cell": {
     "cellMetadata": {
      "byteLimit": 2048000,
      "implicitDf": true,
      "rowLimit": 10000
     },
     "inputWidgets": {},
     "nuid": "82e6ed17-2307-4889-abd2-7792a6257e40",
     "showTitle": false,
     "tableResultSettingsMap": {},
     "title": ""
    }
   },
   "outputs": [
    {
     "output_type": "display_data",
     "data": {
      "text/html": [
       "<style scoped>\n",
       "  .table-result-container {\n",
       "    max-height: 300px;\n",
       "    overflow: auto;\n",
       "  }\n",
       "  table, th, td {\n",
       "    border: 1px solid black;\n",
       "    border-collapse: collapse;\n",
       "  }\n",
       "  th, td {\n",
       "    padding: 5px;\n",
       "  }\n",
       "  th {\n",
       "    text-align: left;\n",
       "  }\n",
       "</style><div class='table-result-container'><table class='table-result'><thead style='background-color: white'><tr><th>orderid</th><th>custid</th><th>city</th><th>del_partner</th><th>order_time</th><th>deliver_time</th><th>predicted_time</th></tr></thead><tbody><tr><td>1</td><td>101</td><td>Mumbai</td><td>Partner A</td><td>2024-12-18T10:00:00.000+0000</td><td>2024-12-18T11:30:00.000+0000</td><td>60</td></tr><tr><td>2</td><td>102</td><td>Delhi</td><td>Partner A</td><td>2024-12-18T09:00:00.000+0000</td><td>2024-12-18T10:00:00.000+0000</td><td>45</td></tr><tr><td>3</td><td>103</td><td>Pune</td><td>Partner A</td><td>2024-12-18T15:00:00.000+0000</td><td>2024-12-18T15:30:00.000+0000</td><td>30</td></tr><tr><td>4</td><td>104</td><td>Mumbai</td><td>Partner A</td><td>2024-12-18T14:00:00.000+0000</td><td>2024-12-18T14:50:00.000+0000</td><td>45</td></tr><tr><td>5</td><td>105</td><td>Bangalore</td><td>Partner B</td><td>2024-12-18T08:00:00.000+0000</td><td>2024-12-18T08:29:00.000+0000</td><td>30</td></tr><tr><td>6</td><td>106</td><td>Hyderabad</td><td>Partner B</td><td>2024-12-18T13:00:00.000+0000</td><td>2024-12-18T14:00:00.000+0000</td><td>70</td></tr><tr><td>7</td><td>107</td><td>Kolkata</td><td>Partner B</td><td>2024-12-18T10:00:00.000+0000</td><td>2024-12-18T10:40:00.000+0000</td><td>45</td></tr><tr><td>8</td><td>108</td><td>Delhi</td><td>Partner B</td><td>2024-12-18T18:00:00.000+0000</td><td>2024-12-18T18:30:00.000+0000</td><td>40</td></tr><tr><td>9</td><td>109</td><td>Chennai</td><td>Partner C</td><td>2024-12-18T07:00:00.000+0000</td><td>2024-12-18T07:40:00.000+0000</td><td>30</td></tr><tr><td>10</td><td>110</td><td>Mumbai</td><td>Partner C</td><td>2024-12-18T12:00:00.000+0000</td><td>2024-12-18T13:00:00.000+0000</td><td>50</td></tr><tr><td>11</td><td>111</td><td>Delhi</td><td>Partner C</td><td>2024-12-18T09:00:00.000+0000</td><td>2024-12-18T09:35:00.000+0000</td><td>30</td></tr><tr><td>12</td><td>112</td><td>Hyderabad</td><td>Partner C</td><td>2024-12-18T16:00:00.000+0000</td><td>2024-12-18T16:45:00.000+0000</td><td>30</td></tr></tbody></table></div>"
      ]
     },
     "metadata": {
      "application/vnd.databricks.v1+output": {
       "addedWidgets": {},
       "aggData": [],
       "aggError": "",
       "aggOverflow": false,
       "aggSchema": [],
       "aggSeriesLimitReached": false,
       "aggType": "",
       "arguments": {},
       "columnCustomDisplayInfos": {},
       "data": [
        [
         1,
         101,
         "Mumbai",
         "Partner A",
         "2024-12-18T10:00:00.000+0000",
         "2024-12-18T11:30:00.000+0000",
         60
        ],
        [
         2,
         102,
         "Delhi",
         "Partner A",
         "2024-12-18T09:00:00.000+0000",
         "2024-12-18T10:00:00.000+0000",
         45
        ],
        [
         3,
         103,
         "Pune",
         "Partner A",
         "2024-12-18T15:00:00.000+0000",
         "2024-12-18T15:30:00.000+0000",
         30
        ],
        [
         4,
         104,
         "Mumbai",
         "Partner A",
         "2024-12-18T14:00:00.000+0000",
         "2024-12-18T14:50:00.000+0000",
         45
        ],
        [
         5,
         105,
         "Bangalore",
         "Partner B",
         "2024-12-18T08:00:00.000+0000",
         "2024-12-18T08:29:00.000+0000",
         30
        ],
        [
         6,
         106,
         "Hyderabad",
         "Partner B",
         "2024-12-18T13:00:00.000+0000",
         "2024-12-18T14:00:00.000+0000",
         70
        ],
        [
         7,
         107,
         "Kolkata",
         "Partner B",
         "2024-12-18T10:00:00.000+0000",
         "2024-12-18T10:40:00.000+0000",
         45
        ],
        [
         8,
         108,
         "Delhi",
         "Partner B",
         "2024-12-18T18:00:00.000+0000",
         "2024-12-18T18:30:00.000+0000",
         40
        ],
        [
         9,
         109,
         "Chennai",
         "Partner C",
         "2024-12-18T07:00:00.000+0000",
         "2024-12-18T07:40:00.000+0000",
         30
        ],
        [
         10,
         110,
         "Mumbai",
         "Partner C",
         "2024-12-18T12:00:00.000+0000",
         "2024-12-18T13:00:00.000+0000",
         50
        ],
        [
         11,
         111,
         "Delhi",
         "Partner C",
         "2024-12-18T09:00:00.000+0000",
         "2024-12-18T09:35:00.000+0000",
         30
        ],
        [
         12,
         112,
         "Hyderabad",
         "Partner C",
         "2024-12-18T16:00:00.000+0000",
         "2024-12-18T16:45:00.000+0000",
         30
        ]
       ],
       "datasetInfos": [],
       "dbfsResultPath": null,
       "isJsonSchema": true,
       "metadata": {},
       "overflow": false,
       "plotOptions": {
        "customPlotOptions": {},
        "displayType": "table",
        "pivotAggregation": null,
        "pivotColumns": null,
        "xColumns": null,
        "yColumns": null
       },
       "removedWidgets": [],
       "schema": [
        {
         "metadata": "{}",
         "name": "orderid",
         "type": "\"integer\""
        },
        {
         "metadata": "{}",
         "name": "custid",
         "type": "\"integer\""
        },
        {
         "metadata": "{}",
         "name": "city",
         "type": "\"string\""
        },
        {
         "metadata": "{}",
         "name": "del_partner",
         "type": "\"string\""
        },
        {
         "metadata": "{}",
         "name": "order_time",
         "type": "\"timestamp\""
        },
        {
         "metadata": "{}",
         "name": "deliver_time",
         "type": "\"timestamp\""
        },
        {
         "metadata": "{}",
         "name": "predicted_time",
         "type": "\"integer\""
        }
       ],
       "type": "table"
      }
     },
     "output_type": "display_data"
    }
   ],
   "source": [
    "%sql\n",
    "select * from swiggy_orders"
   ]
  },
  {
   "cell_type": "code",
   "execution_count": 0,
   "metadata": {
    "application/vnd.databricks.v1+cell": {
     "cellMetadata": {
      "byteLimit": 2048000,
      "implicitDf": true,
      "rowLimit": 10000
     },
     "inputWidgets": {},
     "nuid": "64416870-d6c0-418c-afa1-273e8490c145",
     "showTitle": false,
     "tableResultSettingsMap": {},
     "title": ""
    }
   },
   "outputs": [
    {
     "output_type": "display_data",
     "data": {
      "text/html": [
       "<style scoped>\n",
       "  .table-result-container {\n",
       "    max-height: 300px;\n",
       "    overflow: auto;\n",
       "  }\n",
       "  table, th, td {\n",
       "    border: 1px solid black;\n",
       "    border-collapse: collapse;\n",
       "  }\n",
       "  th, td {\n",
       "    padding: 5px;\n",
       "  }\n",
       "  th {\n",
       "    text-align: left;\n",
       "  }\n",
       "</style><div class='table-result-container'><table class='table-result'><thead style='background-color: white'><tr><th>del_partner</th><th>delayed_orders</th></tr></thead><tbody><tr><td>Partner C</td><td>4</td></tr><tr><td>Partner A</td><td>3</td></tr></tbody></table></div>"
      ]
     },
     "metadata": {
      "application/vnd.databricks.v1+output": {
       "addedWidgets": {},
       "aggData": [],
       "aggError": "",
       "aggOverflow": false,
       "aggSchema": [],
       "aggSeriesLimitReached": false,
       "aggType": "",
       "arguments": {},
       "columnCustomDisplayInfos": {},
       "data": [
        [
         "Partner C",
         4
        ],
        [
         "Partner A",
         3
        ]
       ],
       "datasetInfos": [],
       "dbfsResultPath": null,
       "isJsonSchema": true,
       "metadata": {},
       "overflow": false,
       "plotOptions": {
        "customPlotOptions": {},
        "displayType": "table",
        "pivotAggregation": null,
        "pivotColumns": null,
        "xColumns": null,
        "yColumns": null
       },
       "removedWidgets": [],
       "schema": [
        {
         "metadata": "{}",
         "name": "del_partner",
         "type": "\"string\""
        },
        {
         "metadata": "{}",
         "name": "delayed_orders",
         "type": "\"long\""
        }
       ],
       "type": "table"
      }
     },
     "output_type": "display_data"
    }
   ],
   "source": [
    "%sql\n",
    "select del_partner, count(orderid) AS delayed_orders\n",
    "from swiggy_orders\n",
    "where TIMESTAMPDIFF(MINUTE, order_time, deliver_time) > predicted_time\n",
    "group by del_partner;\n"
   ]
  },
  {
   "cell_type": "code",
   "execution_count": 0,
   "metadata": {
    "application/vnd.databricks.v1+cell": {
     "cellMetadata": {
      "byteLimit": 2048000,
      "implicitDf": true,
      "rowLimit": 10000
     },
     "inputWidgets": {},
     "nuid": "75b78367-5e90-480e-8deb-053213e20271",
     "showTitle": false,
     "tableResultSettingsMap": {},
     "title": ""
    }
   },
   "outputs": [
    {
     "output_type": "display_data",
     "data": {
      "text/html": [
       "<style scoped>\n",
       "  .table-result-container {\n",
       "    max-height: 300px;\n",
       "    overflow: auto;\n",
       "  }\n",
       "  table, th, td {\n",
       "    border: 1px solid black;\n",
       "    border-collapse: collapse;\n",
       "  }\n",
       "  th, td {\n",
       "    padding: 5px;\n",
       "  }\n",
       "  th {\n",
       "    text-align: left;\n",
       "  }\n",
       "</style><div class='table-result-container'><table class='table-result'><thead style='background-color: white'><tr><th>del_partner</th><th>delayed_orders</th></tr></thead><tbody><tr><td>Partner B</td><td>0</td></tr><tr><td>Partner C</td><td>4</td></tr><tr><td>Partner A</td><td>3</td></tr></tbody></table></div>"
      ]
     },
     "metadata": {
      "application/vnd.databricks.v1+output": {
       "addedWidgets": {},
       "aggData": [],
       "aggError": "",
       "aggOverflow": false,
       "aggSchema": [],
       "aggSeriesLimitReached": false,
       "aggType": "",
       "arguments": {},
       "columnCustomDisplayInfos": {},
       "data": [
        [
         "Partner B",
         0
        ],
        [
         "Partner C",
         4
        ],
        [
         "Partner A",
         3
        ]
       ],
       "datasetInfos": [],
       "dbfsResultPath": null,
       "isJsonSchema": true,
       "metadata": {},
       "overflow": false,
       "plotOptions": {
        "customPlotOptions": {},
        "displayType": "table",
        "pivotAggregation": null,
        "pivotColumns": null,
        "xColumns": null,
        "yColumns": null
       },
       "removedWidgets": [],
       "schema": [
        {
         "metadata": "{}",
         "name": "del_partner",
         "type": "\"string\""
        },
        {
         "metadata": "{}",
         "name": "delayed_orders",
         "type": "\"long\""
        }
       ],
       "type": "table"
      }
     },
     "output_type": "display_data"
    }
   ],
   "source": [
    "%sql\n",
    "SELECT del_partner, \n",
    "       COUNT(CASE WHEN TIMESTAMPDIFF(MINUTE, order_time, deliver_time) > predicted_time THEN 1 END) AS delayed_orders\n",
    "FROM swiggy_orders\n",
    "GROUP BY del_partner;\n",
    "\n"
   ]
  },
  {
   "cell_type": "code",
   "execution_count": 0,
   "metadata": {
    "application/vnd.databricks.v1+cell": {
     "cellMetadata": {
      "byteLimit": 2048000,
      "implicitDf": true,
      "rowLimit": 10000
     },
     "inputWidgets": {},
     "nuid": "be3075ae-ef5e-4edb-855f-d03396cc1095",
     "showTitle": false,
     "tableResultSettingsMap": {},
     "title": ""
    }
   },
   "outputs": [
    {
     "output_type": "display_data",
     "data": {
      "text/html": [
       "<style scoped>\n",
       "  .table-result-container {\n",
       "    max-height: 300px;\n",
       "    overflow: auto;\n",
       "  }\n",
       "  table, th, td {\n",
       "    border: 1px solid black;\n",
       "    border-collapse: collapse;\n",
       "  }\n",
       "  th, td {\n",
       "    padding: 5px;\n",
       "  }\n",
       "  th {\n",
       "    text-align: left;\n",
       "  }\n",
       "</style><div class='table-result-container'><table class='table-result'><thead style='background-color: white'><tr><th>order_date</th><th>customer_id</th><th>store_id</th><th>product_id</th><th>sale</th><th>order_value</th></tr></thead><tbody><tr><td>2024-12-01</td><td>109</td><td>1</td><td>3</td><td>2</td><td>700</td></tr><tr><td>2024-12-02</td><td>110</td><td>2</td><td>2</td><td>1</td><td>300</td></tr><tr><td>2024-12-03</td><td>111</td><td>1</td><td>5</td><td>3</td><td>900</td></tr><tr><td>2024-12-04</td><td>112</td><td>3</td><td>1</td><td>2</td><td>500</td></tr><tr><td>2024-12-05</td><td>113</td><td>3</td><td>4</td><td>4</td><td>1200</td></tr><tr><td>2024-12-05</td><td>114</td><td>3</td><td>4</td><td>2</td><td>400</td></tr><tr><td>2024-12-05</td><td>115</td><td>3</td><td>4</td><td>1</td><td>300</td></tr><tr><td>2024-12-01</td><td>101</td><td>1</td><td>4</td><td>2</td><td>500</td></tr><tr><td>2024-12-01</td><td>102</td><td>1</td><td>4</td><td>1</td><td>300</td></tr><tr><td>2024-12-02</td><td>103</td><td>2</td><td>4</td><td>3</td><td>900</td></tr><tr><td>2024-12-02</td><td>104</td><td>2</td><td>4</td><td>1</td><td>400</td></tr><tr><td>2024-12-03</td><td>105</td><td>1</td><td>4</td><td>2</td><td>600</td></tr><tr><td>2024-12-03</td><td>106</td><td>1</td><td>4</td><td>3</td><td>800</td></tr><tr><td>2024-12-04</td><td>107</td><td>3</td><td>4</td><td>1</td><td>200</td></tr><tr><td>2024-12-04</td><td>108</td><td>3</td><td>4</td><td>2</td><td>500</td></tr></tbody></table></div>"
      ]
     },
     "metadata": {
      "application/vnd.databricks.v1+output": {
       "addedWidgets": {},
       "aggData": [],
       "aggError": "",
       "aggOverflow": false,
       "aggSchema": [],
       "aggSeriesLimitReached": false,
       "aggType": "",
       "arguments": {},
       "columnCustomDisplayInfos": {},
       "data": [
        [
         "2024-12-01",
         109,
         1,
         3,
         2,
         700
        ],
        [
         "2024-12-02",
         110,
         2,
         2,
         1,
         300
        ],
        [
         "2024-12-03",
         111,
         1,
         5,
         3,
         900
        ],
        [
         "2024-12-04",
         112,
         3,
         1,
         2,
         500
        ],
        [
         "2024-12-05",
         113,
         3,
         4,
         4,
         1200
        ],
        [
         "2024-12-05",
         114,
         3,
         4,
         2,
         400
        ],
        [
         "2024-12-05",
         115,
         3,
         4,
         1,
         300
        ],
        [
         "2024-12-01",
         101,
         1,
         4,
         2,
         500
        ],
        [
         "2024-12-01",
         102,
         1,
         4,
         1,
         300
        ],
        [
         "2024-12-02",
         103,
         2,
         4,
         3,
         900
        ],
        [
         "2024-12-02",
         104,
         2,
         4,
         1,
         400
        ],
        [
         "2024-12-03",
         105,
         1,
         4,
         2,
         600
        ],
        [
         "2024-12-03",
         106,
         1,
         4,
         3,
         800
        ],
        [
         "2024-12-04",
         107,
         3,
         4,
         1,
         200
        ],
        [
         "2024-12-04",
         108,
         3,
         4,
         2,
         500
        ]
       ],
       "datasetInfos": [],
       "dbfsResultPath": null,
       "isJsonSchema": true,
       "metadata": {},
       "overflow": false,
       "plotOptions": {
        "customPlotOptions": {},
        "displayType": "table",
        "pivotAggregation": null,
        "pivotColumns": null,
        "xColumns": null,
        "yColumns": null
       },
       "removedWidgets": [],
       "schema": [
        {
         "metadata": "{}",
         "name": "order_date",
         "type": "\"date\""
        },
        {
         "metadata": "{}",
         "name": "customer_id",
         "type": "\"integer\""
        },
        {
         "metadata": "{}",
         "name": "store_id",
         "type": "\"integer\""
        },
        {
         "metadata": "{}",
         "name": "product_id",
         "type": "\"integer\""
        },
        {
         "metadata": "{}",
         "name": "sale",
         "type": "\"integer\""
        },
        {
         "metadata": "{}",
         "name": "order_value",
         "type": "\"integer\""
        }
       ],
       "type": "table"
      }
     },
     "output_type": "display_data"
    }
   ],
   "source": [
    "%sql\n",
    "select * from sale_data "
   ]
  },
  {
   "cell_type": "markdown",
   "metadata": {
    "application/vnd.databricks.v1+cell": {
     "cellMetadata": {},
     "inputWidgets": {},
     "nuid": "a091545e-3600-4fdc-824f-d8d6cc6244e3",
     "showTitle": false,
     "tableResultSettingsMap": {},
     "title": ""
    }
   },
   "source": [
    "On which date did the 3rd highest sale of product 4 take place in terms of value ?"
   ]
  },
  {
   "cell_type": "code",
   "execution_count": 0,
   "metadata": {
    "application/vnd.databricks.v1+cell": {
     "cellMetadata": {
      "byteLimit": 2048000,
      "implicitDf": true,
      "rowLimit": 10000
     },
     "inputWidgets": {},
     "nuid": "202f7b35-3924-4651-8214-6631500722ba",
     "showTitle": false,
     "tableResultSettingsMap": {},
     "title": ""
    }
   },
   "outputs": [
    {
     "output_type": "display_data",
     "data": {
      "text/html": [
       "<style scoped>\n",
       "  .table-result-container {\n",
       "    max-height: 300px;\n",
       "    overflow: auto;\n",
       "  }\n",
       "  table, th, td {\n",
       "    border: 1px solid black;\n",
       "    border-collapse: collapse;\n",
       "  }\n",
       "  th, td {\n",
       "    padding: 5px;\n",
       "  }\n",
       "  th {\n",
       "    text-align: left;\n",
       "  }\n",
       "</style><div class='table-result-container'><table class='table-result'><thead style='background-color: white'><tr><th>order_date</th></tr></thead><tbody><tr><td>2024-12-03</td></tr></tbody></table></div>"
      ]
     },
     "metadata": {
      "application/vnd.databricks.v1+output": {
       "addedWidgets": {},
       "aggData": [],
       "aggError": "",
       "aggOverflow": false,
       "aggSchema": [],
       "aggSeriesLimitReached": false,
       "aggType": "",
       "arguments": {},
       "columnCustomDisplayInfos": {},
       "data": [
        [
         "2024-12-03"
        ]
       ],
       "datasetInfos": [],
       "dbfsResultPath": null,
       "isJsonSchema": true,
       "metadata": {},
       "overflow": false,
       "plotOptions": {
        "customPlotOptions": {},
        "displayType": "table",
        "pivotAggregation": null,
        "pivotColumns": null,
        "xColumns": null,
        "yColumns": null
       },
       "removedWidgets": [],
       "schema": [
        {
         "metadata": "{}",
         "name": "order_date",
         "type": "\"date\""
        }
       ],
       "type": "table"
      }
     },
     "output_type": "display_data"
    }
   ],
   "source": [
    "%sql\n",
    "WITH RankedSales AS (\n",
    "    SELECT order_date, order_value,\n",
    "           ROW_NUMBER() OVER (PARTITION BY product_id ORDER BY order_value DESC) AS sale_rank\n",
    "    FROM sale_data\n",
    "    WHERE product_id = 4\n",
    ")\n",
    "SELECT order_date\n",
    "FROM RankedSales\n",
    "WHERE sale_rank = 3;\n"
   ]
  }
 ],
 "metadata": {
  "application/vnd.databricks.v1+notebook": {
   "computePreferences": null,
   "dashboards": [],
   "environmentMetadata": {
    "base_environment": "",
    "client": "1"
   },
   "language": "python",
   "notebookMetadata": {
    "mostRecentlyExecutedCommandWithImplicitDF": {
     "commandId": 878572338909141,
     "dataframes": [
      "_sqldf"
     ]
    },
    "pythonIndentUnit": 4
   },
   "notebookName": "SQL - Interview Questions",
   "widgets": {}
  }
 },
 "nbformat": 4,
 "nbformat_minor": 0
}
